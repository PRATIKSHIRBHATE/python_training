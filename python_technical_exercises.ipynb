{
 "cells": [
  {
   "cell_type": "markdown",
   "metadata": {},
   "source": [
    "# Python - Technical Exercises"
   ]
  },
  {
   "cell_type": "markdown",
   "metadata": {},
   "source": [
    "Welcome to the technical exercises for python training session. These hands-on exercises are aimed at helping you get more comfortable with manipulating data in python and should provide you with a basic foundation for working with data from the CADW. Please answer the questions below and document your code to call out your answer. We will review the correct answers and provide examples of code at a later training session. If you have any questions, please feel free to reach out to Michael Voss on the Data Science Team.\n",
    "\n",
    "\n",
    "The data we will use comes from the CADW and is located at the following path:\n",
    "X:\\Data_Science\\Training_Sessions\\Python\\Technical_Exercises\\Data\n",
    "\n",
    "There are three datasets from the client Carilion for the year 2017. Considering the size restrictions when reading in data to python, I've reduced the datasets to include only the fields needed for the exercises:\n",
    " - claims\n",
    "     - Fields: ['encounter', 'memberid', 'sex', 'provname', 'provspec', 'provspec_desc', 'incmonthid', 'units', 'days', 'paid', 'allow', 'majcat', 'majdesc', 'subcat', 'subdesc', 'claim_type']\n",
    "     \n",
    "     \n",
    " - claimsrx\n",
    "     - Fields: ['clm_unique_id', 'memberid', 'incmonthid', 'provid', 'script', 'paid', 'drugname', 'drug_type',        'generic_sub']\n",
    "     \n",
    "     \n",
    " - eligibility\n",
    "     - Fields: ['memberid', 'age', 'sex', 'monthid', 'eligmed', 'eligrx']\n",
    "     \n"
   ]
  },
  {
   "cell_type": "markdown",
   "metadata": {},
   "source": [
    "#### 0. Before you get started, you'll need to read in the data files"
   ]
  },
  {
   "cell_type": "markdown",
   "metadata": {},
   "source": [
    "#### 1. What is the total number of eligible claims (not including pharmacy)?"
   ]
  },
  {
   "cell_type": "markdown",
   "metadata": {},
   "source": [
    "#### 2. What is the total number of member months?"
   ]
  },
  {
   "cell_type": "markdown",
   "metadata": {},
   "source": [
    "#### 3. What is the count of male, female, and total members for the following age cohorts: (0 - 39), (40 - 64), and 65+?"
   ]
  },
  {
   "cell_type": "markdown",
   "metadata": {},
   "source": [
    "#### 4. For each claim type, major category, and subcategory, perform the following:\n",
    "\n",
    "- Calculate the utilization per 1,000\n",
    "- Calculate the total allowed amount\n",
    "- Calculate the total allowed PMPM amount\n",
    "\n",
    "Create your output in the form of a pandas dataframe(s)."
   ]
  },
  {
   "cell_type": "markdown",
   "metadata": {},
   "source": [
    "#### 5. For each pcp specialty, perform the following:\n",
    "\n",
    "- Calculate the unique number of patients seen\n",
    "- Calculate the number of encounters\n",
    "- Calculate the paid per patient\n",
    "- Calculate the paid per encounter\n",
    "- Calculate the total paid amount\n",
    "- Calculate the total paid PMPM amount\n",
    "\n",
    "PCP provider specialty codes: (21, 25, 35, 45, 62, 44, M6)\n",
    "\n",
    "Create your output in the form of a pandas dataframe."
   ]
  },
  {
   "cell_type": "markdown",
   "metadata": {},
   "source": [
    "#### 6. Pull the top 10 inpatient facilities by total admits and perform the following:\n",
    "- Calculate the number of admits\n",
    "- Calculate the number of days\n",
    "- Calculate the alos\n",
    "- Calculate the paid per day amount\n",
    "- Calculate the paid per admit amount\n",
    "- Calculate the total paid amount\n",
    "\n",
    "Create your output in the form of a pandas dataframe."
   ]
  },
  {
   "cell_type": "markdown",
   "metadata": {},
   "source": [
    "#### 7. Repeat the analysis for question 6, but for the inpatient facilities not in the top 10 by total admits. Add the row to the end of the data frame created in question 6."
   ]
  },
  {
   "cell_type": "markdown",
   "metadata": {},
   "source": [
    "#### 8.  Repeat the analysis for question 6, but for the all the inpatient facilities (create a total row for all the inpatient facilities). Add the row to the end of the data frame created in question 7."
   ]
  },
  {
   "cell_type": "markdown",
   "metadata": {},
   "source": [
    "#### 9. What is the total number of prescriptions for brand drugs where a generic version was available?\n"
   ]
  },
  {
   "cell_type": "markdown",
   "metadata": {},
   "source": [
    "#### 10. Which drug had the highest paid per script amount?"
   ]
  }
 ],
 "metadata": {
  "kernelspec": {
   "display_name": "Python 3",
   "language": "python",
   "name": "python3"
  },
  "language_info": {
   "codemirror_mode": {
    "name": "ipython",
    "version": 3
   },
   "file_extension": ".py",
   "mimetype": "text/x-python",
   "name": "python",
   "nbconvert_exporter": "python",
   "pygments_lexer": "ipython3",
   "version": "3.6.4"
  }
 },
 "nbformat": 4,
 "nbformat_minor": 2
}
