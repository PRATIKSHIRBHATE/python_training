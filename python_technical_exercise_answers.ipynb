{
 "cells": [
  {
   "cell_type": "markdown",
   "metadata": {},
   "source": [
    "# Python - Technical Exercises With Answers"
   ]
  },
  {
   "cell_type": "markdown",
   "metadata": {},
   "source": [
    "Welcome to the technical exercises for python training session. These hands-on exercises are aimed at helping you get more comfortable with manipulating data in python and should provide you with a basic foundation for working with data from the CADW. Please answer the questions below and document your code to call out your answer. We will review the correct answers and provide examples of code at a later training session. If you have any questions, please feel free to reach out to Michael Voss on the Data Science Team.\n",
    "\n",
    "\n",
    "The data we will use comes from the CADW and is located at the following path:\n",
    "X:\\Data_Science\\Training_Sessions\\Python\\Technical_Exercises\\Data\n",
    "\n",
    "There are three datasets from the client Carilion for the year 2017. Considering the size restrictions when reading in data to python, I've reduced the datasets to include only the fields needed for the exercises:\n",
    " - claims\n",
    "     - Fields: ['encounter', 'memberid', 'sex', 'provname', 'provspec', 'provspec_desc', 'incmonthid', 'units', 'days', 'paid', 'allow', 'majcat', 'majdesc', 'subcat', 'subdesc', 'claim_type']\n",
    "     \n",
    "     \n",
    " - claimsrx\n",
    "     - Fields: ['clm_unique_id', 'memberid', 'incmonthid', 'provid', 'script', 'paid', 'drugname', 'drug_type',        'generic_sub']\n",
    "     \n",
    "     \n",
    " - eligibility\n",
    "     - Fields: ['memberid', 'age', 'sex', 'monthid', 'eligmed', 'eligrx']"
   ]
  },
  {
   "cell_type": "markdown",
   "metadata": {},
   "source": [
    "#### 0. Before you get started, you'll need to read in the data files"
   ]
  },
  {
   "cell_type": "code",
   "execution_count": 1,
   "metadata": {},
   "outputs": [],
   "source": [
    "# import modules to be used in project\n",
    "import pandas as pd\n",
    "import numpy as np"
   ]
  },
  {
   "cell_type": "code",
   "execution_count": 2,
   "metadata": {},
   "outputs": [],
   "source": [
    "# set the file paths for the three datasets\n",
    "claims_path = \"X:\\Data_Science\\Training_Sessions\\Python\\Technical_Exercises\\Data\\claims.txt\"\n",
    "claimsrx_path = \"X:\\Data_Science\\Training_Sessions\\Python\\Technical_Exercises\\Data\\claimsrx.txt\"\n",
    "elig_path = \"X:\\Data_Science\\Training_Sessions\\Python\\Technical_Exercises\\Data\\elig.txt\""
   ]
  },
  {
   "cell_type": "markdown",
   "metadata": {},
   "source": [
    "When importing the data, you may get a low memory or dtype warning. The reason you get this is becuase when reading in data, pandas is trying to determine what dtype to set for each column by analyzing the data. However, guessing dtypes is very memory demanding. In order to not get this warning, you need to set low_memory = False, or specify dtypes on the import."
   ]
  },
  {
   "cell_type": "code",
   "execution_count": 3,
   "metadata": {},
   "outputs": [],
   "source": [
    "# using pandas, import the claims dataset\n",
    "claims = pd.read_table(claims_path, sep=\"\\t\", low_memory=False)"
   ]
  },
  {
   "cell_type": "code",
   "execution_count": 7,
   "metadata": {},
   "outputs": [],
   "source": [
    "# using pandas, import the claimsrx dataset\n",
    "claimsrx = pd.read_table(claimsrx_path, sep=\"\\t\", low_memory=False)"
   ]
  },
  {
   "cell_type": "code",
   "execution_count": 8,
   "metadata": {},
   "outputs": [],
   "source": [
    "# using pandas, import the eligibility dataset\n",
    "elig = pd.read_table(elig_path, sep=\"\\t\", low_memory=False)"
   ]
  },
  {
   "cell_type": "code",
   "execution_count": 9,
   "metadata": {
    "collapsed": true
   },
   "outputs": [
    {
     "data": {
      "text/html": [
       "<div>\n",
       "<style scoped>\n",
       "    .dataframe tbody tr th:only-of-type {\n",
       "        vertical-align: middle;\n",
       "    }\n",
       "\n",
       "    .dataframe tbody tr th {\n",
       "        vertical-align: top;\n",
       "    }\n",
       "\n",
       "    .dataframe thead th {\n",
       "        text-align: right;\n",
       "    }\n",
       "</style>\n",
       "<table border=\"1\" class=\"dataframe\">\n",
       "  <thead>\n",
       "    <tr style=\"text-align: right;\">\n",
       "      <th></th>\n",
       "      <th>encounter</th>\n",
       "      <th>memberid</th>\n",
       "      <th>sex</th>\n",
       "      <th>provname</th>\n",
       "      <th>provspec</th>\n",
       "      <th>provspec_desc</th>\n",
       "      <th>incmonthid</th>\n",
       "      <th>units</th>\n",
       "      <th>days</th>\n",
       "      <th>paid</th>\n",
       "      <th>allow</th>\n",
       "      <th>majcat</th>\n",
       "      <th>majdesc</th>\n",
       "      <th>subcat</th>\n",
       "      <th>subdesc</th>\n",
       "      <th>claim_type</th>\n",
       "    </tr>\n",
       "  </thead>\n",
       "  <tbody>\n",
       "    <tr>\n",
       "      <th>0</th>\n",
       "      <td>003686658A_CRL_5885_IP_2017061220170614</td>\n",
       "      <td>003686658A</td>\n",
       "      <td>F</td>\n",
       "      <td>T/A AUGUSTA HEALTH</td>\n",
       "      <td>32</td>\n",
       "      <td>Hospital</td>\n",
       "      <td>201706</td>\n",
       "      <td>2.0</td>\n",
       "      <td>2</td>\n",
       "      <td>2729.51</td>\n",
       "      <td>3275.412</td>\n",
       "      <td>2</td>\n",
       "      <td>Inpatient - Maternity</td>\n",
       "      <td>5</td>\n",
       "      <td>Normal Delivery</td>\n",
       "      <td>Hospital Inpatient</td>\n",
       "    </tr>\n",
       "    <tr>\n",
       "      <th>1</th>\n",
       "      <td>003686658A_CRL_5885_IP_2017072620170818</td>\n",
       "      <td>003686658A</td>\n",
       "      <td>F</td>\n",
       "      <td>T/A AUGUSTA HEALTH</td>\n",
       "      <td>32</td>\n",
       "      <td>Hospital</td>\n",
       "      <td>201707</td>\n",
       "      <td>23.0</td>\n",
       "      <td>23</td>\n",
       "      <td>4666.84</td>\n",
       "      <td>5600.208</td>\n",
       "      <td>1</td>\n",
       "      <td>Inpatient - Acute Medical</td>\n",
       "      <td>2</td>\n",
       "      <td>Other Medical</td>\n",
       "      <td>Hospital Inpatient</td>\n",
       "    </tr>\n",
       "    <tr>\n",
       "      <th>2</th>\n",
       "      <td>223419589A_CRL_38_IP_2017082620170829</td>\n",
       "      <td>223419589A</td>\n",
       "      <td>F</td>\n",
       "      <td>CARILION ROANOKE MEMORIAL HOSPITAL</td>\n",
       "      <td>32</td>\n",
       "      <td>Hospital</td>\n",
       "      <td>201708</td>\n",
       "      <td>3.0</td>\n",
       "      <td>3</td>\n",
       "      <td>3109.85</td>\n",
       "      <td>3731.820</td>\n",
       "      <td>2</td>\n",
       "      <td>Inpatient - Maternity</td>\n",
       "      <td>5</td>\n",
       "      <td>Normal Delivery</td>\n",
       "      <td>Hospital Inpatient</td>\n",
       "    </tr>\n",
       "    <tr>\n",
       "      <th>3</th>\n",
       "      <td>223846105C1_CRL_38_IP_2017101420171016</td>\n",
       "      <td>223846105C1</td>\n",
       "      <td>F</td>\n",
       "      <td>CARILION ROANOKE MEMORIAL HOSPITAL</td>\n",
       "      <td>32</td>\n",
       "      <td>Hospital</td>\n",
       "      <td>201710</td>\n",
       "      <td>2.0</td>\n",
       "      <td>2</td>\n",
       "      <td>3478.95</td>\n",
       "      <td>4174.740</td>\n",
       "      <td>2</td>\n",
       "      <td>Inpatient - Maternity</td>\n",
       "      <td>5</td>\n",
       "      <td>Normal Delivery</td>\n",
       "      <td>Hospital Inpatient</td>\n",
       "    </tr>\n",
       "    <tr>\n",
       "      <th>4</th>\n",
       "      <td>224456860A_CRL_38_IP_2017020720170211</td>\n",
       "      <td>224456860A</td>\n",
       "      <td>F</td>\n",
       "      <td>CARILION ROANOKE MEMORIAL HOSPITAL</td>\n",
       "      <td>32</td>\n",
       "      <td>Hospital</td>\n",
       "      <td>201702</td>\n",
       "      <td>4.0</td>\n",
       "      <td>4</td>\n",
       "      <td>4221.58</td>\n",
       "      <td>5065.896</td>\n",
       "      <td>2</td>\n",
       "      <td>Inpatient - Maternity</td>\n",
       "      <td>5</td>\n",
       "      <td>Normal Delivery</td>\n",
       "      <td>Hospital Inpatient</td>\n",
       "    </tr>\n",
       "  </tbody>\n",
       "</table>\n",
       "</div>"
      ],
      "text/plain": [
       "                                 encounter     memberid sex  \\\n",
       "0  003686658A_CRL_5885_IP_2017061220170614   003686658A   F   \n",
       "1  003686658A_CRL_5885_IP_2017072620170818   003686658A   F   \n",
       "2    223419589A_CRL_38_IP_2017082620170829   223419589A   F   \n",
       "3   223846105C1_CRL_38_IP_2017101420171016  223846105C1   F   \n",
       "4    224456860A_CRL_38_IP_2017020720170211   224456860A   F   \n",
       "\n",
       "                             provname provspec provspec_desc  incmonthid  \\\n",
       "0                  T/A AUGUSTA HEALTH       32      Hospital      201706   \n",
       "1                  T/A AUGUSTA HEALTH       32      Hospital      201707   \n",
       "2  CARILION ROANOKE MEMORIAL HOSPITAL       32      Hospital      201708   \n",
       "3  CARILION ROANOKE MEMORIAL HOSPITAL       32      Hospital      201710   \n",
       "4  CARILION ROANOKE MEMORIAL HOSPITAL       32      Hospital      201702   \n",
       "\n",
       "   units  days     paid     allow  majcat                    majdesc  subcat  \\\n",
       "0    2.0     2  2729.51  3275.412       2      Inpatient - Maternity       5   \n",
       "1   23.0    23  4666.84  5600.208       1  Inpatient - Acute Medical       2   \n",
       "2    3.0     3  3109.85  3731.820       2      Inpatient - Maternity       5   \n",
       "3    2.0     2  3478.95  4174.740       2      Inpatient - Maternity       5   \n",
       "4    4.0     4  4221.58  5065.896       2      Inpatient - Maternity       5   \n",
       "\n",
       "           subdesc          claim_type  \n",
       "0  Normal Delivery  Hospital Inpatient  \n",
       "1    Other Medical  Hospital Inpatient  \n",
       "2  Normal Delivery  Hospital Inpatient  \n",
       "3  Normal Delivery  Hospital Inpatient  \n",
       "4  Normal Delivery  Hospital Inpatient  "
      ]
     },
     "execution_count": 9,
     "metadata": {},
     "output_type": "execute_result"
    }
   ],
   "source": [
    "# view the claims dataframe\n",
    "claims.head()"
   ]
  },
  {
   "cell_type": "code",
   "execution_count": 7,
   "metadata": {
    "collapsed": true
   },
   "outputs": [
    {
     "data": {
      "text/html": [
       "<div>\n",
       "<style scoped>\n",
       "    .dataframe tbody tr th:only-of-type {\n",
       "        vertical-align: middle;\n",
       "    }\n",
       "\n",
       "    .dataframe tbody tr th {\n",
       "        vertical-align: top;\n",
       "    }\n",
       "\n",
       "    .dataframe thead th {\n",
       "        text-align: right;\n",
       "    }\n",
       "</style>\n",
       "<table border=\"1\" class=\"dataframe\">\n",
       "  <thead>\n",
       "    <tr style=\"text-align: right;\">\n",
       "      <th></th>\n",
       "      <th>clm_unique_id</th>\n",
       "      <th>memberid</th>\n",
       "      <th>incmonthid</th>\n",
       "      <th>provid</th>\n",
       "      <th>script</th>\n",
       "      <th>paid</th>\n",
       "      <th>drugname</th>\n",
       "      <th>drug_type</th>\n",
       "      <th>generic_sub</th>\n",
       "    </tr>\n",
       "  </thead>\n",
       "  <tbody>\n",
       "    <tr>\n",
       "      <th>0</th>\n",
       "      <td>0065961813541</td>\n",
       "      <td>226645198A</td>\n",
       "      <td>201703</td>\n",
       "      <td>CRL_304</td>\n",
       "      <td>1</td>\n",
       "      <td>0.26</td>\n",
       "      <td>BUPROPION HCL SR</td>\n",
       "      <td>G</td>\n",
       "      <td>1.850416e+08</td>\n",
       "    </tr>\n",
       "    <tr>\n",
       "      <th>1</th>\n",
       "      <td>0065961813542</td>\n",
       "      <td>226645198A</td>\n",
       "      <td>201703</td>\n",
       "      <td>CRL_304</td>\n",
       "      <td>1</td>\n",
       "      <td>0.26</td>\n",
       "      <td>BUPROPION HCL SR</td>\n",
       "      <td>G</td>\n",
       "      <td>1.850416e+08</td>\n",
       "    </tr>\n",
       "    <tr>\n",
       "      <th>2</th>\n",
       "      <td>0065961813543</td>\n",
       "      <td>226645198A</td>\n",
       "      <td>201703</td>\n",
       "      <td>CRL_304</td>\n",
       "      <td>1</td>\n",
       "      <td>0.26</td>\n",
       "      <td>BUPROPION HCL SR</td>\n",
       "      <td>G</td>\n",
       "      <td>1.850416e+08</td>\n",
       "    </tr>\n",
       "    <tr>\n",
       "      <th>3</th>\n",
       "      <td>0065961813544</td>\n",
       "      <td>226645198A</td>\n",
       "      <td>201703</td>\n",
       "      <td>CRL_304</td>\n",
       "      <td>0</td>\n",
       "      <td>0.00</td>\n",
       "      <td>CLONAZEPAM</td>\n",
       "      <td>G</td>\n",
       "      <td>3.781911e+08</td>\n",
       "    </tr>\n",
       "    <tr>\n",
       "      <th>4</th>\n",
       "      <td>0065961813545</td>\n",
       "      <td>226645198A</td>\n",
       "      <td>201703</td>\n",
       "      <td>CRL_304</td>\n",
       "      <td>1</td>\n",
       "      <td>15.00</td>\n",
       "      <td>DOXYCYCLINE HYCLATE</td>\n",
       "      <td>G</td>\n",
       "      <td>6.740507e+10</td>\n",
       "    </tr>\n",
       "  </tbody>\n",
       "</table>\n",
       "</div>"
      ],
      "text/plain": [
       "   clm_unique_id    memberid  incmonthid   provid  script   paid  \\\n",
       "0  0065961813541  226645198A      201703  CRL_304       1   0.26   \n",
       "1  0065961813542  226645198A      201703  CRL_304       1   0.26   \n",
       "2  0065961813543  226645198A      201703  CRL_304       1   0.26   \n",
       "3  0065961813544  226645198A      201703  CRL_304       0   0.00   \n",
       "4  0065961813545  226645198A      201703  CRL_304       1  15.00   \n",
       "\n",
       "              drugname drug_type   generic_sub  \n",
       "0     BUPROPION HCL SR         G  1.850416e+08  \n",
       "1     BUPROPION HCL SR         G  1.850416e+08  \n",
       "2     BUPROPION HCL SR         G  1.850416e+08  \n",
       "3           CLONAZEPAM         G  3.781911e+08  \n",
       "4  DOXYCYCLINE HYCLATE         G  6.740507e+10  "
      ]
     },
     "execution_count": 7,
     "metadata": {},
     "output_type": "execute_result"
    }
   ],
   "source": [
    "# view the claimsrx dataframe\n",
    "claimsrx.head()"
   ]
  },
  {
   "cell_type": "code",
   "execution_count": 8,
   "metadata": {
    "collapsed": true
   },
   "outputs": [
    {
     "data": {
      "text/html": [
       "<div>\n",
       "<style scoped>\n",
       "    .dataframe tbody tr th:only-of-type {\n",
       "        vertical-align: middle;\n",
       "    }\n",
       "\n",
       "    .dataframe tbody tr th {\n",
       "        vertical-align: top;\n",
       "    }\n",
       "\n",
       "    .dataframe thead th {\n",
       "        text-align: right;\n",
       "    }\n",
       "</style>\n",
       "<table border=\"1\" class=\"dataframe\">\n",
       "  <thead>\n",
       "    <tr style=\"text-align: right;\">\n",
       "      <th></th>\n",
       "      <th>memberid</th>\n",
       "      <th>age</th>\n",
       "      <th>sex</th>\n",
       "      <th>monthid</th>\n",
       "      <th>eligmed</th>\n",
       "      <th>eligrx</th>\n",
       "    </tr>\n",
       "  </thead>\n",
       "  <tbody>\n",
       "    <tr>\n",
       "      <th>0</th>\n",
       "      <td>001182888D4</td>\n",
       "      <td>90</td>\n",
       "      <td>F</td>\n",
       "      <td>201701</td>\n",
       "      <td>1</td>\n",
       "      <td>1</td>\n",
       "    </tr>\n",
       "    <tr>\n",
       "      <th>1</th>\n",
       "      <td>001182888D4</td>\n",
       "      <td>90</td>\n",
       "      <td>F</td>\n",
       "      <td>201702</td>\n",
       "      <td>1</td>\n",
       "      <td>1</td>\n",
       "    </tr>\n",
       "    <tr>\n",
       "      <th>2</th>\n",
       "      <td>001182888D4</td>\n",
       "      <td>90</td>\n",
       "      <td>F</td>\n",
       "      <td>201703</td>\n",
       "      <td>1</td>\n",
       "      <td>1</td>\n",
       "    </tr>\n",
       "    <tr>\n",
       "      <th>3</th>\n",
       "      <td>001182888D4</td>\n",
       "      <td>90</td>\n",
       "      <td>F</td>\n",
       "      <td>201704</td>\n",
       "      <td>1</td>\n",
       "      <td>1</td>\n",
       "    </tr>\n",
       "    <tr>\n",
       "      <th>4</th>\n",
       "      <td>001182888D4</td>\n",
       "      <td>90</td>\n",
       "      <td>F</td>\n",
       "      <td>201705</td>\n",
       "      <td>1</td>\n",
       "      <td>1</td>\n",
       "    </tr>\n",
       "  </tbody>\n",
       "</table>\n",
       "</div>"
      ],
      "text/plain": [
       "      memberid  age sex  monthid  eligmed  eligrx\n",
       "0  001182888D4   90   F   201701        1       1\n",
       "1  001182888D4   90   F   201702        1       1\n",
       "2  001182888D4   90   F   201703        1       1\n",
       "3  001182888D4   90   F   201704        1       1\n",
       "4  001182888D4   90   F   201705        1       1"
      ]
     },
     "execution_count": 8,
     "metadata": {},
     "output_type": "execute_result"
    }
   ],
   "source": [
    "# view the elig dataframe\n",
    "elig.head()"
   ]
  },
  {
   "cell_type": "markdown",
   "metadata": {},
   "source": [
    "#### 1. What is the total number of eligible claims (not including pharmacy)?"
   ]
  },
  {
   "cell_type": "markdown",
   "metadata": {},
   "source": [
    "Before pulling any claims data, it is important to filter the claims for only those that were incurred  when the member was eligible for the applicable benefits. In order to do that, we need to merge the claims with the eligibility table and keep only those claims incurred in months when the member was eligible for the benefit."
   ]
  },
  {
   "cell_type": "code",
   "execution_count": 10,
   "metadata": {},
   "outputs": [],
   "source": [
    "# perform a left join from the claims dataframe to the elig dataframe on memberid and incmonthid/monthid\n",
    "elig_claims = claims.merge(elig, how='left', left_on=['memberid','incmonthid'], right_on=['memberid', 'monthid'])"
   ]
  },
  {
   "cell_type": "code",
   "execution_count": 11,
   "metadata": {},
   "outputs": [],
   "source": [
    "# filter the data for only those claims where where eligmed = 1\n",
    "elig_claims_final = elig_claims.loc[elig_claims['eligmed'] == 1.0]"
   ]
  },
  {
   "cell_type": "code",
   "execution_count": 123,
   "metadata": {},
   "outputs": [
    {
     "data": {
      "text/plain": [
       "7459"
      ]
     },
     "execution_count": 123,
     "metadata": {},
     "output_type": "execute_result"
    }
   ],
   "source": [
    "# were there any claims where the member was not eligible for the benefit?\n",
    "nonelig_claims = elig_claims.loc[elig_claims['eligmed'] != 1.0]\n",
    "len(nonelig_claims)"
   ]
  },
  {
   "cell_type": "markdown",
   "metadata": {},
   "source": [
    "#### __Correct Answer:__"
   ]
  },
  {
   "cell_type": "code",
   "execution_count": 124,
   "metadata": {},
   "outputs": [
    {
     "data": {
      "text/plain": [
       "3575621"
      ]
     },
     "execution_count": 124,
     "metadata": {},
     "output_type": "execute_result"
    }
   ],
   "source": [
    "len(elig_claims_final)"
   ]
  },
  {
   "cell_type": "markdown",
   "metadata": {},
   "source": [
    "#### 2. What is the total number of member months?"
   ]
  },
  {
   "cell_type": "markdown",
   "metadata": {},
   "source": [
    "In order to calculate the member months for the data, we need to sum up the eligmed field in the eligibility data. Since each record correspsonds to a month of eligibility, it will give us the total number of member months."
   ]
  },
  {
   "cell_type": "code",
   "execution_count": 14,
   "metadata": {},
   "outputs": [],
   "source": [
    "# sum up the eligmed field to get the total number of member months\n",
    "mm = elig['eligmed'].sum()"
   ]
  },
  {
   "cell_type": "markdown",
   "metadata": {},
   "source": [
    "#### __Correct Answer:__"
   ]
  },
  {
   "cell_type": "code",
   "execution_count": 15,
   "metadata": {},
   "outputs": [
    {
     "data": {
      "text/plain": [
       "722639"
      ]
     },
     "execution_count": 15,
     "metadata": {},
     "output_type": "execute_result"
    }
   ],
   "source": [
    "mm"
   ]
  },
  {
   "cell_type": "markdown",
   "metadata": {},
   "source": [
    "#### 3. What is the count of male, female, and total members for the following age cohorts: (0 - 39), (40 - 64), and 65+?"
   ]
  },
  {
   "cell_type": "markdown",
   "metadata": {},
   "source": [
    "Using the eligibility data, we need to first get a single age for each member that was eligible in the data. Because the time period for the data is 2017, members could have a differet age depending on the month during the year. Therefore, I decided to use the age that the member was for the longest duration (the most months) in the data. For any members that were the two different ages for the same amount of time (6 months at one age, 6 months at another), I took the higher age."
   ]
  },
  {
   "cell_type": "markdown",
   "metadata": {},
   "source": [
    "First, we need figure out which age to attribute to each member."
   ]
  },
  {
   "cell_type": "code",
   "execution_count": 263,
   "metadata": {},
   "outputs": [],
   "source": [
    "# filter for only the member months where the member was eligible (eligmed = 1)\n",
    "membership = elig.loc[elig['eligmed'] == 1.0]"
   ]
  },
  {
   "cell_type": "code",
   "execution_count": 276,
   "metadata": {
    "collapsed": true
   },
   "outputs": [
    {
     "data": {
      "text/html": [
       "<div>\n",
       "<style scoped>\n",
       "    .dataframe tbody tr th:only-of-type {\n",
       "        vertical-align: middle;\n",
       "    }\n",
       "\n",
       "    .dataframe tbody tr th {\n",
       "        vertical-align: top;\n",
       "    }\n",
       "\n",
       "    .dataframe thead th {\n",
       "        text-align: right;\n",
       "    }\n",
       "</style>\n",
       "<table border=\"1\" class=\"dataframe\">\n",
       "  <thead>\n",
       "    <tr style=\"text-align: right;\">\n",
       "      <th></th>\n",
       "      <th>memberid</th>\n",
       "      <th>age</th>\n",
       "      <th>sex</th>\n",
       "      <th>age_cohort</th>\n",
       "    </tr>\n",
       "  </thead>\n",
       "  <tbody>\n",
       "    <tr>\n",
       "      <th>0</th>\n",
       "      <td>001182888D4</td>\n",
       "      <td>90</td>\n",
       "      <td>F</td>\n",
       "      <td>65+</td>\n",
       "    </tr>\n",
       "    <tr>\n",
       "      <th>1</th>\n",
       "      <td>001240927A</td>\n",
       "      <td>84</td>\n",
       "      <td>M</td>\n",
       "      <td>65+</td>\n",
       "    </tr>\n",
       "    <tr>\n",
       "      <th>2</th>\n",
       "      <td>001240927B</td>\n",
       "      <td>82</td>\n",
       "      <td>F</td>\n",
       "      <td>65+</td>\n",
       "    </tr>\n",
       "    <tr>\n",
       "      <th>3</th>\n",
       "      <td>001249331A</td>\n",
       "      <td>86</td>\n",
       "      <td>M</td>\n",
       "      <td>65+</td>\n",
       "    </tr>\n",
       "    <tr>\n",
       "      <th>4</th>\n",
       "      <td>001262987A</td>\n",
       "      <td>81</td>\n",
       "      <td>M</td>\n",
       "      <td>65+</td>\n",
       "    </tr>\n",
       "  </tbody>\n",
       "</table>\n",
       "</div>"
      ],
      "text/plain": [
       "      memberid  age sex age_cohort\n",
       "0  001182888D4   90   F        65+\n",
       "1   001240927A   84   M        65+\n",
       "2   001240927B   82   F        65+\n",
       "3   001249331A   86   M        65+\n",
       "4   001262987A   81   M        65+"
      ]
     },
     "execution_count": 276,
     "metadata": {},
     "output_type": "execute_result"
    }
   ],
   "source": [
    "membership4.head()"
   ]
  },
  {
   "cell_type": "code",
   "execution_count": 266,
   "metadata": {},
   "outputs": [],
   "source": [
    "# get the number of months each member was for each age\n",
    "membership2 = membership.groupby(['memberid', 'age', 'sex'])['age'].agg('count').reset_index(name='count')"
   ]
  },
  {
   "cell_type": "code",
   "execution_count": 268,
   "metadata": {},
   "outputs": [],
   "source": [
    "# sort by the memberid, count(frequency) and then the age\n",
    "membership3 = membership2.sort_values(['memberid', 'count', 'age'], ascending=[False, False, False])"
   ]
  },
  {
   "cell_type": "code",
   "execution_count": 270,
   "metadata": {},
   "outputs": [],
   "source": [
    "# for each memberid, keep the first row\n",
    "membership4 = membership3.groupby('memberid').first().reset_index()"
   ]
  },
  {
   "cell_type": "code",
   "execution_count": 272,
   "metadata": {},
   "outputs": [],
   "source": [
    "# drop the count column\n",
    "membership4 = membership4.drop(columns=['count'])"
   ]
  },
  {
   "cell_type": "code",
   "execution_count": 273,
   "metadata": {},
   "outputs": [],
   "source": [
    "# create a new column for the age cohorts\n",
    "membership4['age_cohort'] = ''"
   ]
  },
  {
   "cell_type": "code",
   "execution_count": 275,
   "metadata": {},
   "outputs": [],
   "source": [
    "# when the age is less than 40, set the age cohort to '0-39'\n",
    "membership4.loc[membership4['age'] < 40, 'age_cohort'] = '0-39'\n",
    "\n",
    "# when the age is between 39 and 65, set the age cohort to '40-64'\n",
    "membership4.loc[(membership4['age'] > 39) & (membership4['age'] < 65), 'age_cohort'] = '40-64'\n",
    "\n",
    "# when the age is greater than 64, set the age cohort to '65+'\n",
    "membership4.loc[membership4['age'] > 64, 'age_cohort'] = '65+'"
   ]
  },
  {
   "cell_type": "code",
   "execution_count": 277,
   "metadata": {
    "scrolled": true
   },
   "outputs": [],
   "source": [
    "# drop the memberid and the age columns\n",
    "membership4 = membership4.drop(columns=['age'])"
   ]
  },
  {
   "cell_type": "markdown",
   "metadata": {},
   "source": [
    "Now that we have the members assigned to the age cohorts, we can group them by the age cohort and the sex to get the total number of members for each group."
   ]
  },
  {
   "cell_type": "code",
   "execution_count": 278,
   "metadata": {},
   "outputs": [],
   "source": [
    "# get the count of members for each age cohort and sex combination\n",
    "membership_final = membership4.groupby(['age_cohort', 'sex'])['memberid'].agg('count').reset_index(name='count')"
   ]
  },
  {
   "cell_type": "code",
   "execution_count": 279,
   "metadata": {},
   "outputs": [],
   "source": [
    "# set the index to the age cohort column\n",
    "membership_final.set_index('age_cohort', inplace=True)"
   ]
  },
  {
   "cell_type": "code",
   "execution_count": 280,
   "metadata": {},
   "outputs": [],
   "source": [
    "# format the count column\n",
    "membership_final['count'] = membership_final['count'].apply('{:,.0f}'.format)"
   ]
  },
  {
   "cell_type": "markdown",
   "metadata": {},
   "source": [
    "In addition, we can also get group the data just by the age cohorts and get the total number of members for each, regardless of the members sex."
   ]
  },
  {
   "cell_type": "code",
   "execution_count": 175,
   "metadata": {},
   "outputs": [],
   "source": [
    "# get the total for each age cohort\n",
    "membership_age_cohort = membership4.groupby(['age_cohort'])['memberid'].agg('count').reset_index(name='count')"
   ]
  },
  {
   "cell_type": "code",
   "execution_count": 176,
   "metadata": {},
   "outputs": [],
   "source": [
    "# set the index to the age cohort column\n",
    "membership_age_cohort.set_index('age_cohort', inplace=True)"
   ]
  },
  {
   "cell_type": "code",
   "execution_count": 177,
   "metadata": {},
   "outputs": [],
   "source": [
    "#format the count column\n",
    "membership_age_cohort['count'] = membership_age_cohort['count'].apply('{:,.0f}'.format)"
   ]
  },
  {
   "cell_type": "markdown",
   "metadata": {},
   "source": [
    "#### __Correct Answer:__"
   ]
  },
  {
   "cell_type": "code",
   "execution_count": 174,
   "metadata": {
    "scrolled": true
   },
   "outputs": [
    {
     "data": {
      "text/html": [
       "<div>\n",
       "<style scoped>\n",
       "    .dataframe tbody tr th:only-of-type {\n",
       "        vertical-align: middle;\n",
       "    }\n",
       "\n",
       "    .dataframe tbody tr th {\n",
       "        vertical-align: top;\n",
       "    }\n",
       "\n",
       "    .dataframe thead th {\n",
       "        text-align: right;\n",
       "    }\n",
       "</style>\n",
       "<table border=\"1\" class=\"dataframe\">\n",
       "  <thead>\n",
       "    <tr style=\"text-align: right;\">\n",
       "      <th></th>\n",
       "      <th>sex</th>\n",
       "      <th>count</th>\n",
       "    </tr>\n",
       "    <tr>\n",
       "      <th>age_cohort</th>\n",
       "      <th></th>\n",
       "      <th></th>\n",
       "    </tr>\n",
       "  </thead>\n",
       "  <tbody>\n",
       "    <tr>\n",
       "      <th>0-39</th>\n",
       "      <td>F</td>\n",
       "      <td>709</td>\n",
       "    </tr>\n",
       "    <tr>\n",
       "      <th>0-39</th>\n",
       "      <td>M</td>\n",
       "      <td>695</td>\n",
       "    </tr>\n",
       "    <tr>\n",
       "      <th>40-64</th>\n",
       "      <td>F</td>\n",
       "      <td>4,557</td>\n",
       "    </tr>\n",
       "    <tr>\n",
       "      <th>40-64</th>\n",
       "      <td>M</td>\n",
       "      <td>4,051</td>\n",
       "    </tr>\n",
       "    <tr>\n",
       "      <th>65+</th>\n",
       "      <td>F</td>\n",
       "      <td>31,843</td>\n",
       "    </tr>\n",
       "    <tr>\n",
       "      <th>65+</th>\n",
       "      <td>M</td>\n",
       "      <td>23,263</td>\n",
       "    </tr>\n",
       "  </tbody>\n",
       "</table>\n",
       "</div>"
      ],
      "text/plain": [
       "           sex   count\n",
       "age_cohort            \n",
       "0-39         F     709\n",
       "0-39         M     695\n",
       "40-64        F   4,557\n",
       "40-64        M   4,051\n",
       "65+          F  31,843\n",
       "65+          M  23,263"
      ]
     },
     "execution_count": 174,
     "metadata": {},
     "output_type": "execute_result"
    }
   ],
   "source": [
    "# membership broken out by age cohort and sex\n",
    "membership_final"
   ]
  },
  {
   "cell_type": "code",
   "execution_count": 178,
   "metadata": {},
   "outputs": [
    {
     "data": {
      "text/html": [
       "<div>\n",
       "<style scoped>\n",
       "    .dataframe tbody tr th:only-of-type {\n",
       "        vertical-align: middle;\n",
       "    }\n",
       "\n",
       "    .dataframe tbody tr th {\n",
       "        vertical-align: top;\n",
       "    }\n",
       "\n",
       "    .dataframe thead th {\n",
       "        text-align: right;\n",
       "    }\n",
       "</style>\n",
       "<table border=\"1\" class=\"dataframe\">\n",
       "  <thead>\n",
       "    <tr style=\"text-align: right;\">\n",
       "      <th></th>\n",
       "      <th>count</th>\n",
       "    </tr>\n",
       "    <tr>\n",
       "      <th>age_cohort</th>\n",
       "      <th></th>\n",
       "    </tr>\n",
       "  </thead>\n",
       "  <tbody>\n",
       "    <tr>\n",
       "      <th>0-39</th>\n",
       "      <td>1,404</td>\n",
       "    </tr>\n",
       "    <tr>\n",
       "      <th>40-64</th>\n",
       "      <td>8,608</td>\n",
       "    </tr>\n",
       "    <tr>\n",
       "      <th>65+</th>\n",
       "      <td>55,106</td>\n",
       "    </tr>\n",
       "  </tbody>\n",
       "</table>\n",
       "</div>"
      ],
      "text/plain": [
       "             count\n",
       "age_cohort        \n",
       "0-39         1,404\n",
       "40-64        8,608\n",
       "65+         55,106"
      ]
     },
     "execution_count": 178,
     "metadata": {},
     "output_type": "execute_result"
    }
   ],
   "source": [
    "# membership broken out by age cohort\n",
    "membership_age_cohort"
   ]
  },
  {
   "cell_type": "markdown",
   "metadata": {},
   "source": [
    "#### 4. For each claim type, major category, and subcategory, perform the following:\n",
    "\n",
    "- Calculate the utilization per 1,000\n",
    "- Calculate the total allowed amount\n",
    "- Calculate the total allowed PMPM amount\n",
    "\n",
    "Create your output in the form of a pandas dataframe(s)."
   ]
  },
  {
   "cell_type": "code",
   "execution_count": 41,
   "metadata": {},
   "outputs": [],
   "source": [
    "def utilization(x):\n",
    "    ''' \n",
    "    Returns the utilization per 1,000 of x.\n",
    "    '''\n",
    "    return ((x.sum()/mm)*12000)"
   ]
  },
  {
   "cell_type": "code",
   "execution_count": 42,
   "metadata": {},
   "outputs": [],
   "source": [
    "def total_allowed(x):\n",
    "    '''\n",
    "    Returns the total allowed amount of x.\n",
    "    '''\n",
    "    return x.sum()"
   ]
  },
  {
   "cell_type": "code",
   "execution_count": 43,
   "metadata": {},
   "outputs": [],
   "source": [
    "def allowed_pmpm(x):\n",
    "    '''\n",
    "    Returns the allowed per member per month of x.\n",
    "    '''\n",
    "    return x.sum()/mm"
   ]
  },
  {
   "cell_type": "markdown",
   "metadata": {},
   "source": [
    "For this question, we are going to create three different pandas dataframes, one for the claim type, the majcat, and subcats. For each dataframe, we will perform the calculations."
   ]
  },
  {
   "cell_type": "markdown",
   "metadata": {},
   "source": [
    "__Claim Type__"
   ]
  },
  {
   "cell_type": "code",
   "execution_count": 44,
   "metadata": {},
   "outputs": [],
   "source": [
    "# create a new dataframe with the utilization of each claim type\n",
    "claim_type = elig_claims.groupby(['claim_type'])['units'].agg([utilization])"
   ]
  },
  {
   "cell_type": "code",
   "execution_count": 45,
   "metadata": {},
   "outputs": [],
   "source": [
    "# create a new dataframe with the total allowed and pmpm amounts\n",
    "claim_type1 = elig_claims.groupby(['claim_type'])['allow'].agg([allowed_pmpm, total_allowed])"
   ]
  },
  {
   "cell_type": "code",
   "execution_count": 65,
   "metadata": {},
   "outputs": [],
   "source": [
    "# merge the two dataframes together\n",
    "claim_type_final = claim_type.merge(claim_type1, how='left', left_index=True, right_index=True)"
   ]
  },
  {
   "cell_type": "code",
   "execution_count": 66,
   "metadata": {},
   "outputs": [],
   "source": [
    "# sort by the total allowed to find the claim types with high a high impact on cost\n",
    "claim_type_final = claim_type_final.sort_values('total_allowed', ascending=False)"
   ]
  },
  {
   "cell_type": "code",
   "execution_count": 67,
   "metadata": {},
   "outputs": [],
   "source": [
    "# format the dataframe so that it reads easier\n",
    "claim_type_final['utilization'] = claim_type_final['utilization'].apply('{:,.1f}'.format)\n",
    "claim_type_final['allowed_pmpm'] = claim_type_final['allowed_pmpm'].apply('${0:,.2f}'.format)\n",
    "claim_type_final['total_allowed'] = claim_type_final['total_allowed'].apply('${0:,.0f}'.format)"
   ]
  },
  {
   "cell_type": "markdown",
   "metadata": {},
   "source": [
    "__Major Category__"
   ]
  },
  {
   "cell_type": "code",
   "execution_count": 49,
   "metadata": {},
   "outputs": [],
   "source": [
    "# create a new dataframe with the utilization of each majacat\n",
    "majcat = elig_claims.groupby(['majdesc'])['units'].agg([utilization])"
   ]
  },
  {
   "cell_type": "code",
   "execution_count": 50,
   "metadata": {},
   "outputs": [],
   "source": [
    "# create a new dataframe with the total allowed and pmpm amounts\n",
    "majcat1 = elig_claims.groupby(['majdesc'])['allow'].agg([allowed_pmpm, total_allowed])"
   ]
  },
  {
   "cell_type": "code",
   "execution_count": 62,
   "metadata": {},
   "outputs": [],
   "source": [
    "# merge the two dataframes together\n",
    "majcat_final = majcat.merge(majcat1, how='left', left_index=True, right_index=True)"
   ]
  },
  {
   "cell_type": "code",
   "execution_count": 63,
   "metadata": {},
   "outputs": [],
   "source": [
    "# sort by the total allowed to find the categories with high a high impact on cost\n",
    "majcat_final = majcat_final.sort_values('total_allowed', ascending=False)"
   ]
  },
  {
   "cell_type": "code",
   "execution_count": 64,
   "metadata": {},
   "outputs": [],
   "source": [
    "# format the dataframe so that it reads easier\n",
    "majcat_final['utilization'] = majcat_final['utilization'].apply('{:,.1f}'.format)\n",
    "majcat_final['allowed_pmpm'] = majcat_final['allowed_pmpm'].apply('${0:,.2f}'.format)\n",
    "majcat_final['total_allowed'] = majcat_final['total_allowed'].apply('${0:,.0f}'.format)"
   ]
  },
  {
   "cell_type": "markdown",
   "metadata": {},
   "source": [
    "__Sub-Category__"
   ]
  },
  {
   "cell_type": "code",
   "execution_count": 54,
   "metadata": {},
   "outputs": [],
   "source": [
    "# create a new dataframe with the utilization of each subcat\n",
    "subcat = elig_claims.groupby(['subdesc'])['units'].agg([utilization])"
   ]
  },
  {
   "cell_type": "code",
   "execution_count": 55,
   "metadata": {},
   "outputs": [],
   "source": [
    "# create a new dataframe with the total allowed and pmpm amounts\n",
    "subcat1 = elig_claims.groupby(['subdesc'])['allow'].agg([allowed_pmpm, total_allowed])"
   ]
  },
  {
   "cell_type": "code",
   "execution_count": 68,
   "metadata": {},
   "outputs": [],
   "source": [
    "# merge the two dataframes together\n",
    "subcat_final = subcat.merge(subcat1, how='left', left_index=True, right_index=True)"
   ]
  },
  {
   "cell_type": "code",
   "execution_count": 69,
   "metadata": {},
   "outputs": [],
   "source": [
    "# sort by the total allowed to find the categories with high a high impact on cost\n",
    "subcat_final = subcat_final.sort_values('total_allowed', ascending=False)"
   ]
  },
  {
   "cell_type": "code",
   "execution_count": 70,
   "metadata": {},
   "outputs": [],
   "source": [
    "# format the dataframe so that it reads easier\n",
    "subcat_final['utilization'] = subcat_final['utilization'].apply('{:,.1f}'.format)\n",
    "subcat_final['allowed_pmpm'] = subcat_final['allowed_pmpm'].apply('${0:,.2f}'.format)\n",
    "subcat_final['total_allowed'] = subcat_final['total_allowed'].apply('${0:,.0f}'.format)"
   ]
  },
  {
   "cell_type": "markdown",
   "metadata": {},
   "source": [
    "#### __Correct Answer:__"
   ]
  },
  {
   "cell_type": "code",
   "execution_count": 125,
   "metadata": {},
   "outputs": [
    {
     "data": {
      "text/html": [
       "<div>\n",
       "<style scoped>\n",
       "    .dataframe tbody tr th:only-of-type {\n",
       "        vertical-align: middle;\n",
       "    }\n",
       "\n",
       "    .dataframe tbody tr th {\n",
       "        vertical-align: top;\n",
       "    }\n",
       "\n",
       "    .dataframe thead th {\n",
       "        text-align: right;\n",
       "    }\n",
       "</style>\n",
       "<table border=\"1\" class=\"dataframe\">\n",
       "  <thead>\n",
       "    <tr style=\"text-align: right;\">\n",
       "      <th></th>\n",
       "      <th>utilization</th>\n",
       "      <th>allowed_pmpm</th>\n",
       "      <th>total_allowed</th>\n",
       "    </tr>\n",
       "    <tr>\n",
       "      <th>claim_type</th>\n",
       "      <th></th>\n",
       "      <th></th>\n",
       "      <th></th>\n",
       "    </tr>\n",
       "  </thead>\n",
       "  <tbody>\n",
       "    <tr>\n",
       "      <th>Hospital Inpatient</th>\n",
       "      <td>3,089.9</td>\n",
       "      <td>$353.02</td>\n",
       "      <td>$255,108,406</td>\n",
       "    </tr>\n",
       "    <tr>\n",
       "      <th>Physician</th>\n",
       "      <td>62,390.7</td>\n",
       "      <td>$245.02</td>\n",
       "      <td>$177,060,298</td>\n",
       "    </tr>\n",
       "    <tr>\n",
       "      <th>Hospital Outpatient</th>\n",
       "      <td>6,483.4</td>\n",
       "      <td>$179.68</td>\n",
       "      <td>$129,847,157</td>\n",
       "    </tr>\n",
       "    <tr>\n",
       "      <th>Ancillary</th>\n",
       "      <td>18,090.7</td>\n",
       "      <td>$105.86</td>\n",
       "      <td>$76,496,359</td>\n",
       "    </tr>\n",
       "  </tbody>\n",
       "</table>\n",
       "</div>"
      ],
      "text/plain": [
       "                    utilization allowed_pmpm total_allowed\n",
       "claim_type                                                \n",
       "Hospital Inpatient      3,089.9      $353.02  $255,108,406\n",
       "Physician              62,390.7      $245.02  $177,060,298\n",
       "Hospital Outpatient     6,483.4      $179.68  $129,847,157\n",
       "Ancillary              18,090.7      $105.86   $76,496,359"
      ]
     },
     "execution_count": 125,
     "metadata": {},
     "output_type": "execute_result"
    }
   ],
   "source": [
    "claim_type_final"
   ]
  },
  {
   "cell_type": "code",
   "execution_count": 72,
   "metadata": {
    "scrolled": true
   },
   "outputs": [
    {
     "data": {
      "text/html": [
       "<div>\n",
       "<style scoped>\n",
       "    .dataframe tbody tr th:only-of-type {\n",
       "        vertical-align: middle;\n",
       "    }\n",
       "\n",
       "    .dataframe tbody tr th {\n",
       "        vertical-align: top;\n",
       "    }\n",
       "\n",
       "    .dataframe thead th {\n",
       "        text-align: right;\n",
       "    }\n",
       "</style>\n",
       "<table border=\"1\" class=\"dataframe\">\n",
       "  <thead>\n",
       "    <tr style=\"text-align: right;\">\n",
       "      <th></th>\n",
       "      <th>utilization</th>\n",
       "      <th>allowed_pmpm</th>\n",
       "      <th>total_allowed</th>\n",
       "    </tr>\n",
       "    <tr>\n",
       "      <th>majdesc</th>\n",
       "      <th></th>\n",
       "      <th></th>\n",
       "      <th></th>\n",
       "    </tr>\n",
       "  </thead>\n",
       "  <tbody>\n",
       "    <tr>\n",
       "      <th>Inpatient - Acute Medical</th>\n",
       "      <td>786.2</td>\n",
       "      <td>$134.17</td>\n",
       "      <td>$96,954,022</td>\n",
       "    </tr>\n",
       "    <tr>\n",
       "      <th>Inpatient - Acute Surgical</th>\n",
       "      <td>383.6</td>\n",
       "      <td>$133.94</td>\n",
       "      <td>$96,789,340</td>\n",
       "    </tr>\n",
       "    <tr>\n",
       "      <th>Inpatient - Rehab/SNF</th>\n",
       "      <td>1,859.2</td>\n",
       "      <td>$80.26</td>\n",
       "      <td>$58,002,066</td>\n",
       "    </tr>\n",
       "    <tr>\n",
       "      <th>Home Health</th>\n",
       "      <td>11,369.2</td>\n",
       "      <td>$63.51</td>\n",
       "      <td>$45,897,165</td>\n",
       "    </tr>\n",
       "    <tr>\n",
       "      <th>Outpatient - ASU</th>\n",
       "      <td>633.9</td>\n",
       "      <td>$61.42</td>\n",
       "      <td>$44,381,187</td>\n",
       "    </tr>\n",
       "    <tr>\n",
       "      <th>Office Visits</th>\n",
       "      <td>7,984.8</td>\n",
       "      <td>$55.87</td>\n",
       "      <td>$40,376,803</td>\n",
       "    </tr>\n",
       "    <tr>\n",
       "      <th>Outpatient - Other</th>\n",
       "      <td>1,890.6</td>\n",
       "      <td>$55.21</td>\n",
       "      <td>$39,898,222</td>\n",
       "    </tr>\n",
       "    <tr>\n",
       "      <th>Medical Drug</th>\n",
       "      <td>19,335.4</td>\n",
       "      <td>$47.45</td>\n",
       "      <td>$34,285,961</td>\n",
       "    </tr>\n",
       "    <tr>\n",
       "      <th>Outpatient Surgery</th>\n",
       "      <td>5,583.4</td>\n",
       "      <td>$37.17</td>\n",
       "      <td>$26,863,576</td>\n",
       "    </tr>\n",
       "    <tr>\n",
       "      <th>Outpatient - Other Therapies</th>\n",
       "      <td>2,258.5</td>\n",
       "      <td>$24.44</td>\n",
       "      <td>$17,663,072</td>\n",
       "    </tr>\n",
       "    <tr>\n",
       "      <th>Inpatient Visits</th>\n",
       "      <td>2,756.4</td>\n",
       "      <td>$23.38</td>\n",
       "      <td>$16,896,275</td>\n",
       "    </tr>\n",
       "    <tr>\n",
       "      <th>Outpatient - ER</th>\n",
       "      <td>469.1</td>\n",
       "      <td>$22.01</td>\n",
       "      <td>$15,905,307</td>\n",
       "    </tr>\n",
       "    <tr>\n",
       "      <th>DME</th>\n",
       "      <td>71.0</td>\n",
       "      <td>$16.73</td>\n",
       "      <td>$12,090,950</td>\n",
       "    </tr>\n",
       "    <tr>\n",
       "      <th>Pathology</th>\n",
       "      <td>10,976.5</td>\n",
       "      <td>$16.49</td>\n",
       "      <td>$11,918,687</td>\n",
       "    </tr>\n",
       "    <tr>\n",
       "      <th>Ambulance</th>\n",
       "      <td>5,426.6</td>\n",
       "      <td>$15.56</td>\n",
       "      <td>$11,247,129</td>\n",
       "    </tr>\n",
       "    <tr>\n",
       "      <th>Radiology</th>\n",
       "      <td>5,000.4</td>\n",
       "      <td>$13.09</td>\n",
       "      <td>$9,460,404</td>\n",
       "    </tr>\n",
       "    <tr>\n",
       "      <th>Outpatient - Radiology</th>\n",
       "      <td>809.4</td>\n",
       "      <td>$12.98</td>\n",
       "      <td>$9,382,629</td>\n",
       "    </tr>\n",
       "    <tr>\n",
       "      <th>Inp Surg - Non-Maternity</th>\n",
       "      <td>253.6</td>\n",
       "      <td>$10.63</td>\n",
       "      <td>$7,683,172</td>\n",
       "    </tr>\n",
       "    <tr>\n",
       "      <th>All Other</th>\n",
       "      <td>3,998.2</td>\n",
       "      <td>$8.78</td>\n",
       "      <td>$6,347,084</td>\n",
       "    </tr>\n",
       "    <tr>\n",
       "      <th>ER Visits</th>\n",
       "      <td>781.5</td>\n",
       "      <td>$8.20</td>\n",
       "      <td>$5,925,175</td>\n",
       "    </tr>\n",
       "    <tr>\n",
       "      <th>Anesthesia</th>\n",
       "      <td>632.7</td>\n",
       "      <td>$8.20</td>\n",
       "      <td>$5,924,872</td>\n",
       "    </tr>\n",
       "    <tr>\n",
       "      <th>Vision</th>\n",
       "      <td>950.8</td>\n",
       "      <td>$8.13</td>\n",
       "      <td>$5,876,951</td>\n",
       "    </tr>\n",
       "    <tr>\n",
       "      <th>Dx Testing</th>\n",
       "      <td>2,427.7</td>\n",
       "      <td>$7.88</td>\n",
       "      <td>$5,693,777</td>\n",
       "    </tr>\n",
       "    <tr>\n",
       "      <th>Therapies</th>\n",
       "      <td>2,659.4</td>\n",
       "      <td>$7.83</td>\n",
       "      <td>$5,657,798</td>\n",
       "    </tr>\n",
       "    <tr>\n",
       "      <th>Inpatient - MH/SA</th>\n",
       "      <td>60.1</td>\n",
       "      <td>$4.57</td>\n",
       "      <td>$3,303,452</td>\n",
       "    </tr>\n",
       "    <tr>\n",
       "      <th>Outpatient - Pathology</th>\n",
       "      <td>404.2</td>\n",
       "      <td>$3.40</td>\n",
       "      <td>$2,455,062</td>\n",
       "    </tr>\n",
       "    <tr>\n",
       "      <th>Mental Health</th>\n",
       "      <td>272.9</td>\n",
       "      <td>$1.91</td>\n",
       "      <td>$1,383,707</td>\n",
       "    </tr>\n",
       "    <tr>\n",
       "      <th>Outpatient - Psych &amp; Sub Abuse</th>\n",
       "      <td>17.5</td>\n",
       "      <td>$0.22</td>\n",
       "      <td>$161,210</td>\n",
       "    </tr>\n",
       "    <tr>\n",
       "      <th>Inpatient - Maternity</th>\n",
       "      <td>0.8</td>\n",
       "      <td>$0.08</td>\n",
       "      <td>$59,526</td>\n",
       "    </tr>\n",
       "    <tr>\n",
       "      <th>Inp Surg - Maternity</th>\n",
       "      <td>0.5</td>\n",
       "      <td>$0.04</td>\n",
       "      <td>$26,218</td>\n",
       "    </tr>\n",
       "    <tr>\n",
       "      <th>Consults</th>\n",
       "      <td>0.1</td>\n",
       "      <td>$0.00</td>\n",
       "      <td>$497</td>\n",
       "    </tr>\n",
       "    <tr>\n",
       "      <th>Outpatient - Maternity</th>\n",
       "      <td>0.1</td>\n",
       "      <td>$0.00</td>\n",
       "      <td>$469</td>\n",
       "    </tr>\n",
       "    <tr>\n",
       "      <th>Dental</th>\n",
       "      <td>0.1</td>\n",
       "      <td>$0.00</td>\n",
       "      <td>$458</td>\n",
       "    </tr>\n",
       "  </tbody>\n",
       "</table>\n",
       "</div>"
      ],
      "text/plain": [
       "                               utilization allowed_pmpm total_allowed\n",
       "majdesc                                                              \n",
       "Inpatient - Acute Medical            786.2      $134.17   $96,954,022\n",
       "Inpatient - Acute Surgical           383.6      $133.94   $96,789,340\n",
       "Inpatient - Rehab/SNF              1,859.2       $80.26   $58,002,066\n",
       "Home Health                       11,369.2       $63.51   $45,897,165\n",
       "Outpatient - ASU                     633.9       $61.42   $44,381,187\n",
       "Office Visits                      7,984.8       $55.87   $40,376,803\n",
       "Outpatient - Other                 1,890.6       $55.21   $39,898,222\n",
       "Medical Drug                      19,335.4       $47.45   $34,285,961\n",
       "Outpatient Surgery                 5,583.4       $37.17   $26,863,576\n",
       "Outpatient - Other Therapies       2,258.5       $24.44   $17,663,072\n",
       "Inpatient Visits                   2,756.4       $23.38   $16,896,275\n",
       "Outpatient - ER                      469.1       $22.01   $15,905,307\n",
       "DME                                   71.0       $16.73   $12,090,950\n",
       "Pathology                         10,976.5       $16.49   $11,918,687\n",
       "Ambulance                          5,426.6       $15.56   $11,247,129\n",
       "Radiology                          5,000.4       $13.09    $9,460,404\n",
       "Outpatient - Radiology               809.4       $12.98    $9,382,629\n",
       "Inp Surg - Non-Maternity             253.6       $10.63    $7,683,172\n",
       "All Other                          3,998.2        $8.78    $6,347,084\n",
       "ER Visits                            781.5        $8.20    $5,925,175\n",
       "Anesthesia                           632.7        $8.20    $5,924,872\n",
       "Vision                               950.8        $8.13    $5,876,951\n",
       "Dx Testing                         2,427.7        $7.88    $5,693,777\n",
       "Therapies                          2,659.4        $7.83    $5,657,798\n",
       "Inpatient - MH/SA                     60.1        $4.57    $3,303,452\n",
       "Outpatient - Pathology               404.2        $3.40    $2,455,062\n",
       "Mental Health                        272.9        $1.91    $1,383,707\n",
       "Outpatient - Psych & Sub Abuse        17.5        $0.22      $161,210\n",
       "Inpatient - Maternity                  0.8        $0.08       $59,526\n",
       "Inp Surg - Maternity                   0.5        $0.04       $26,218\n",
       "Consults                               0.1        $0.00          $497\n",
       "Outpatient - Maternity                 0.1        $0.00          $469\n",
       "Dental                                 0.1        $0.00          $458"
      ]
     },
     "execution_count": 72,
     "metadata": {},
     "output_type": "execute_result"
    }
   ],
   "source": [
    "majcat_final"
   ]
  },
  {
   "cell_type": "code",
   "execution_count": 73,
   "metadata": {
    "scrolled": true
   },
   "outputs": [
    {
     "data": {
      "text/html": [
       "<div>\n",
       "<style scoped>\n",
       "    .dataframe tbody tr th:only-of-type {\n",
       "        vertical-align: middle;\n",
       "    }\n",
       "\n",
       "    .dataframe tbody tr th {\n",
       "        vertical-align: top;\n",
       "    }\n",
       "\n",
       "    .dataframe thead th {\n",
       "        text-align: right;\n",
       "    }\n",
       "</style>\n",
       "<table border=\"1\" class=\"dataframe\">\n",
       "  <thead>\n",
       "    <tr style=\"text-align: right;\">\n",
       "      <th></th>\n",
       "      <th>utilization</th>\n",
       "      <th>allowed_pmpm</th>\n",
       "      <th>total_allowed</th>\n",
       "    </tr>\n",
       "    <tr>\n",
       "      <th>subdesc</th>\n",
       "      <th></th>\n",
       "      <th></th>\n",
       "      <th></th>\n",
       "    </tr>\n",
       "  </thead>\n",
       "  <tbody>\n",
       "    <tr>\n",
       "      <th>Other Medical</th>\n",
       "      <td>786.2</td>\n",
       "      <td>$134.17</td>\n",
       "      <td>$96,954,052</td>\n",
       "    </tr>\n",
       "    <tr>\n",
       "      <th>Other Surgical</th>\n",
       "      <td>352.2</td>\n",
       "      <td>$123.85</td>\n",
       "      <td>$89,499,035</td>\n",
       "    </tr>\n",
       "    <tr>\n",
       "      <th>SNF</th>\n",
       "      <td>1,783.8</td>\n",
       "      <td>$68.53</td>\n",
       "      <td>$49,523,450</td>\n",
       "    </tr>\n",
       "    <tr>\n",
       "      <th>Ambulatory Surgical Care</th>\n",
       "      <td>633.9</td>\n",
       "      <td>$61.42</td>\n",
       "      <td>$44,381,187</td>\n",
       "    </tr>\n",
       "    <tr>\n",
       "      <th>Home Visit</th>\n",
       "      <td>9,649.4</td>\n",
       "      <td>$44.25</td>\n",
       "      <td>$31,978,095</td>\n",
       "    </tr>\n",
       "    <tr>\n",
       "      <th>Office Visits - Established</th>\n",
       "      <td>6,764.4</td>\n",
       "      <td>$43.82</td>\n",
       "      <td>$31,665,687</td>\n",
       "    </tr>\n",
       "    <tr>\n",
       "      <th>Pharmacy</th>\n",
       "      <td>156.4</td>\n",
       "      <td>$30.69</td>\n",
       "      <td>$22,177,310</td>\n",
       "    </tr>\n",
       "    <tr>\n",
       "      <th>Emergency Room</th>\n",
       "      <td>1,108.7</td>\n",
       "      <td>$29.22</td>\n",
       "      <td>$21,115,575</td>\n",
       "    </tr>\n",
       "    <tr>\n",
       "      <th>Injectable Drugs</th>\n",
       "      <td>8,477.2</td>\n",
       "      <td>$26.89</td>\n",
       "      <td>$19,433,870</td>\n",
       "    </tr>\n",
       "    <tr>\n",
       "      <th>Office Visits - Other</th>\n",
       "      <td>1,844.3</td>\n",
       "      <td>$20.81</td>\n",
       "      <td>$15,037,093</td>\n",
       "    </tr>\n",
       "    <tr>\n",
       "      <th>Hospice/Respite</th>\n",
       "      <td>1,728.5</td>\n",
       "      <td>$19.35</td>\n",
       "      <td>$13,983,090</td>\n",
       "    </tr>\n",
       "    <tr>\n",
       "      <th>Physical/occupational Therapy</th>\n",
       "      <td>3,684.8</td>\n",
       "      <td>$17.09</td>\n",
       "      <td>$12,352,820</td>\n",
       "    </tr>\n",
       "    <tr>\n",
       "      <th>Ambulance</th>\n",
       "      <td>5,426.6</td>\n",
       "      <td>$15.56</td>\n",
       "      <td>$11,247,129</td>\n",
       "    </tr>\n",
       "    <tr>\n",
       "      <th>Chemotherapy Drugs</th>\n",
       "      <td>9,045.7</td>\n",
       "      <td>$14.42</td>\n",
       "      <td>$10,422,248</td>\n",
       "    </tr>\n",
       "    <tr>\n",
       "      <th>Radiation Therapy</th>\n",
       "      <td>504.1</td>\n",
       "      <td>$12.30</td>\n",
       "      <td>$8,886,888</td>\n",
       "    </tr>\n",
       "    <tr>\n",
       "      <th>Major Procedure - Other</th>\n",
       "      <td>397.0</td>\n",
       "      <td>$11.80</td>\n",
       "      <td>$8,526,274</td>\n",
       "    </tr>\n",
       "    <tr>\n",
       "      <th>Rehabilitation</th>\n",
       "      <td>75.4</td>\n",
       "      <td>$11.73</td>\n",
       "      <td>$8,478,616</td>\n",
       "    </tr>\n",
       "    <tr>\n",
       "      <th>Hospital Visit - Subsequent</th>\n",
       "      <td>1,553.4</td>\n",
       "      <td>$10.41</td>\n",
       "      <td>$7,520,050</td>\n",
       "    </tr>\n",
       "    <tr>\n",
       "      <th>Other DME</th>\n",
       "      <td>38.7</td>\n",
       "      <td>$9.49</td>\n",
       "      <td>$6,856,507</td>\n",
       "    </tr>\n",
       "    <tr>\n",
       "      <th>Standard Imaging - Other</th>\n",
       "      <td>2,654.8</td>\n",
       "      <td>$9.37</td>\n",
       "      <td>$6,772,431</td>\n",
       "    </tr>\n",
       "    <tr>\n",
       "      <th>Minor Procedure - Skin</th>\n",
       "      <td>1,589.4</td>\n",
       "      <td>$8.49</td>\n",
       "      <td>$6,133,702</td>\n",
       "    </tr>\n",
       "    <tr>\n",
       "      <th>Eye Procedure</th>\n",
       "      <td>785.2</td>\n",
       "      <td>$8.45</td>\n",
       "      <td>$6,104,164</td>\n",
       "    </tr>\n",
       "    <tr>\n",
       "      <th>Anesthesia</th>\n",
       "      <td>632.7</td>\n",
       "      <td>$8.20</td>\n",
       "      <td>$5,924,872</td>\n",
       "    </tr>\n",
       "    <tr>\n",
       "      <th>Vision Services</th>\n",
       "      <td>950.7</td>\n",
       "      <td>$8.13</td>\n",
       "      <td>$5,876,630</td>\n",
       "    </tr>\n",
       "    <tr>\n",
       "      <th>Other</th>\n",
       "      <td>3,559.0</td>\n",
       "      <td>$7.62</td>\n",
       "      <td>$5,508,483</td>\n",
       "    </tr>\n",
       "    <tr>\n",
       "      <th>Transplant/Tracheostomy</th>\n",
       "      <td>21.3</td>\n",
       "      <td>$7.43</td>\n",
       "      <td>$5,371,311</td>\n",
       "    </tr>\n",
       "    <tr>\n",
       "      <th>Lab Tests - Other</th>\n",
       "      <td>3,262.5</td>\n",
       "      <td>$7.16</td>\n",
       "      <td>$5,177,209</td>\n",
       "    </tr>\n",
       "    <tr>\n",
       "      <th>Office Visits - New</th>\n",
       "      <td>728.0</td>\n",
       "      <td>$6.96</td>\n",
       "      <td>$5,028,688</td>\n",
       "    </tr>\n",
       "    <tr>\n",
       "      <th>Prosthestic/Orthotic Devices</th>\n",
       "      <td>32.1</td>\n",
       "      <td>$6.26</td>\n",
       "      <td>$4,527,220</td>\n",
       "    </tr>\n",
       "    <tr>\n",
       "      <th>Lab Tests - Chemistry</th>\n",
       "      <td>3,488.8</td>\n",
       "      <td>$6.03</td>\n",
       "      <td>$4,357,088</td>\n",
       "    </tr>\n",
       "    <tr>\n",
       "      <th>...</th>\n",
       "      <td>...</td>\n",
       "      <td>...</td>\n",
       "      <td>...</td>\n",
       "    </tr>\n",
       "    <tr>\n",
       "      <th>Medical/Surgical Supplies</th>\n",
       "      <td>7.0</td>\n",
       "      <td>$0.58</td>\n",
       "      <td>$416,437</td>\n",
       "    </tr>\n",
       "    <tr>\n",
       "      <th>Observation Room</th>\n",
       "      <td>15.5</td>\n",
       "      <td>$0.52</td>\n",
       "      <td>$372,602</td>\n",
       "    </tr>\n",
       "    <tr>\n",
       "      <th>Venipunctures</th>\n",
       "      <td>2,033.4</td>\n",
       "      <td>$0.51</td>\n",
       "      <td>$367,740</td>\n",
       "    </tr>\n",
       "    <tr>\n",
       "      <th>Pulmonary Function</th>\n",
       "      <td>28.6</td>\n",
       "      <td>$0.43</td>\n",
       "      <td>$310,615</td>\n",
       "    </tr>\n",
       "    <tr>\n",
       "      <th>Allergy Immunotherapy</th>\n",
       "      <td>310.3</td>\n",
       "      <td>$0.32</td>\n",
       "      <td>$231,167</td>\n",
       "    </tr>\n",
       "    <tr>\n",
       "      <th>Mental Health - Evaluation</th>\n",
       "      <td>29.8</td>\n",
       "      <td>$0.31</td>\n",
       "      <td>$222,817</td>\n",
       "    </tr>\n",
       "    <tr>\n",
       "      <th>Imaging/Procedure - Other</th>\n",
       "      <td>56.9</td>\n",
       "      <td>$0.29</td>\n",
       "      <td>$209,885</td>\n",
       "    </tr>\n",
       "    <tr>\n",
       "      <th>Other Procedure</th>\n",
       "      <td>16.0</td>\n",
       "      <td>$0.28</td>\n",
       "      <td>$201,463</td>\n",
       "    </tr>\n",
       "    <tr>\n",
       "      <th>Behavioral Health - Psych</th>\n",
       "      <td>17.5</td>\n",
       "      <td>$0.22</td>\n",
       "      <td>$161,210</td>\n",
       "    </tr>\n",
       "    <tr>\n",
       "      <th>Respiratory Services</th>\n",
       "      <td>20.4</td>\n",
       "      <td>$0.19</td>\n",
       "      <td>$137,775</td>\n",
       "    </tr>\n",
       "    <tr>\n",
       "      <th>Tests - Cardiovascular Procedure</th>\n",
       "      <td>8.8</td>\n",
       "      <td>$0.18</td>\n",
       "      <td>$132,405</td>\n",
       "    </tr>\n",
       "    <tr>\n",
       "      <th>Lab Tests - Urinalysis</th>\n",
       "      <td>572.1</td>\n",
       "      <td>$0.18</td>\n",
       "      <td>$128,572</td>\n",
       "    </tr>\n",
       "    <tr>\n",
       "      <th>PET Scan</th>\n",
       "      <td>14.8</td>\n",
       "      <td>$0.17</td>\n",
       "      <td>$123,954</td>\n",
       "    </tr>\n",
       "    <tr>\n",
       "      <th>Tests - ENT</th>\n",
       "      <td>46.6</td>\n",
       "      <td>$0.13</td>\n",
       "      <td>$96,064</td>\n",
       "    </tr>\n",
       "    <tr>\n",
       "      <th>Tests - Other Procedure</th>\n",
       "      <td>27.1</td>\n",
       "      <td>$0.13</td>\n",
       "      <td>$91,141</td>\n",
       "    </tr>\n",
       "    <tr>\n",
       "      <th>Normal Delivery</th>\n",
       "      <td>0.5</td>\n",
       "      <td>$0.05</td>\n",
       "      <td>$36,121</td>\n",
       "    </tr>\n",
       "    <tr>\n",
       "      <th>Ambulatory Procedure - Other</th>\n",
       "      <td>0.9</td>\n",
       "      <td>$0.04</td>\n",
       "      <td>$26,500</td>\n",
       "    </tr>\n",
       "    <tr>\n",
       "      <th>C-Section Delivery</th>\n",
       "      <td>0.3</td>\n",
       "      <td>$0.03</td>\n",
       "      <td>$23,405</td>\n",
       "    </tr>\n",
       "    <tr>\n",
       "      <th>Audiology</th>\n",
       "      <td>3.2</td>\n",
       "      <td>$0.03</td>\n",
       "      <td>$22,298</td>\n",
       "    </tr>\n",
       "    <tr>\n",
       "      <th>Maternity - Normal Delivery</th>\n",
       "      <td>0.2</td>\n",
       "      <td>$0.02</td>\n",
       "      <td>$15,908</td>\n",
       "    </tr>\n",
       "    <tr>\n",
       "      <th>Dermatological Therapy</th>\n",
       "      <td>4.7</td>\n",
       "      <td>$0.02</td>\n",
       "      <td>$11,444</td>\n",
       "    </tr>\n",
       "    <tr>\n",
       "      <th>Maternity - Cesarean Delivery</th>\n",
       "      <td>0.1</td>\n",
       "      <td>$0.01</td>\n",
       "      <td>$8,429</td>\n",
       "    </tr>\n",
       "    <tr>\n",
       "      <th>Blood &amp; Blood Storage</th>\n",
       "      <td>0.6</td>\n",
       "      <td>$0.01</td>\n",
       "      <td>$7,995</td>\n",
       "    </tr>\n",
       "    <tr>\n",
       "      <th>Maternity - Non-Delivery</th>\n",
       "      <td>0.3</td>\n",
       "      <td>$0.00</td>\n",
       "      <td>$1,882</td>\n",
       "    </tr>\n",
       "    <tr>\n",
       "      <th>Hospital Visit - Extended Care</th>\n",
       "      <td>0.4</td>\n",
       "      <td>$0.00</td>\n",
       "      <td>$1,362</td>\n",
       "    </tr>\n",
       "    <tr>\n",
       "      <th>Consultations</th>\n",
       "      <td>0.1</td>\n",
       "      <td>$0.00</td>\n",
       "      <td>$497</td>\n",
       "    </tr>\n",
       "    <tr>\n",
       "      <th>Labor Room/Delivery</th>\n",
       "      <td>0.1</td>\n",
       "      <td>$0.00</td>\n",
       "      <td>$469</td>\n",
       "    </tr>\n",
       "    <tr>\n",
       "      <th>Dental</th>\n",
       "      <td>0.1</td>\n",
       "      <td>$0.00</td>\n",
       "      <td>$458</td>\n",
       "    </tr>\n",
       "    <tr>\n",
       "      <th>Specialist - Opthamology</th>\n",
       "      <td>0.1</td>\n",
       "      <td>$0.00</td>\n",
       "      <td>$321</td>\n",
       "    </tr>\n",
       "    <tr>\n",
       "      <th>After hours</th>\n",
       "      <td>0.0</td>\n",
       "      <td>$0.00</td>\n",
       "      <td>$0</td>\n",
       "    </tr>\n",
       "  </tbody>\n",
       "</table>\n",
       "<p>94 rows × 3 columns</p>\n",
       "</div>"
      ],
      "text/plain": [
       "                                 utilization allowed_pmpm total_allowed\n",
       "subdesc                                                                \n",
       "Other Medical                          786.2      $134.17   $96,954,052\n",
       "Other Surgical                         352.2      $123.85   $89,499,035\n",
       "SNF                                  1,783.8       $68.53   $49,523,450\n",
       "Ambulatory Surgical Care               633.9       $61.42   $44,381,187\n",
       "Home Visit                           9,649.4       $44.25   $31,978,095\n",
       "Office Visits - Established          6,764.4       $43.82   $31,665,687\n",
       "Pharmacy                               156.4       $30.69   $22,177,310\n",
       "Emergency Room                       1,108.7       $29.22   $21,115,575\n",
       "Injectable Drugs                     8,477.2       $26.89   $19,433,870\n",
       "Office Visits - Other                1,844.3       $20.81   $15,037,093\n",
       "Hospice/Respite                      1,728.5       $19.35   $13,983,090\n",
       "Physical/occupational Therapy        3,684.8       $17.09   $12,352,820\n",
       "Ambulance                            5,426.6       $15.56   $11,247,129\n",
       "Chemotherapy Drugs                   9,045.7       $14.42   $10,422,248\n",
       "Radiation Therapy                      504.1       $12.30    $8,886,888\n",
       "Major Procedure - Other                397.0       $11.80    $8,526,274\n",
       "Rehabilitation                          75.4       $11.73    $8,478,616\n",
       "Hospital Visit - Subsequent          1,553.4       $10.41    $7,520,050\n",
       "Other DME                               38.7        $9.49    $6,856,507\n",
       "Standard Imaging - Other             2,654.8        $9.37    $6,772,431\n",
       "Minor Procedure - Skin               1,589.4        $8.49    $6,133,702\n",
       "Eye Procedure                          785.2        $8.45    $6,104,164\n",
       "Anesthesia                             632.7        $8.20    $5,924,872\n",
       "Vision Services                        950.7        $8.13    $5,876,630\n",
       "Other                                3,559.0        $7.62    $5,508,483\n",
       "Transplant/Tracheostomy                 21.3        $7.43    $5,371,311\n",
       "Lab Tests - Other                    3,262.5        $7.16    $5,177,209\n",
       "Office Visits - New                    728.0        $6.96    $5,028,688\n",
       "Prosthestic/Orthotic Devices            32.1        $6.26    $4,527,220\n",
       "Lab Tests - Chemistry                3,488.8        $6.03    $4,357,088\n",
       "...                                      ...          ...           ...\n",
       "Medical/Surgical Supplies                7.0        $0.58      $416,437\n",
       "Observation Room                        15.5        $0.52      $372,602\n",
       "Venipunctures                        2,033.4        $0.51      $367,740\n",
       "Pulmonary Function                      28.6        $0.43      $310,615\n",
       "Allergy Immunotherapy                  310.3        $0.32      $231,167\n",
       "Mental Health - Evaluation              29.8        $0.31      $222,817\n",
       "Imaging/Procedure - Other               56.9        $0.29      $209,885\n",
       "Other Procedure                         16.0        $0.28      $201,463\n",
       "Behavioral Health - Psych               17.5        $0.22      $161,210\n",
       "Respiratory Services                    20.4        $0.19      $137,775\n",
       "Tests - Cardiovascular Procedure         8.8        $0.18      $132,405\n",
       "Lab Tests - Urinalysis                 572.1        $0.18      $128,572\n",
       "PET Scan                                14.8        $0.17      $123,954\n",
       "Tests - ENT                             46.6        $0.13       $96,064\n",
       "Tests - Other Procedure                 27.1        $0.13       $91,141\n",
       "Normal Delivery                          0.5        $0.05       $36,121\n",
       "Ambulatory Procedure - Other             0.9        $0.04       $26,500\n",
       "C-Section Delivery                       0.3        $0.03       $23,405\n",
       "Audiology                                3.2        $0.03       $22,298\n",
       "Maternity - Normal Delivery              0.2        $0.02       $15,908\n",
       "Dermatological Therapy                   4.7        $0.02       $11,444\n",
       "Maternity - Cesarean Delivery            0.1        $0.01        $8,429\n",
       "Blood & Blood Storage                    0.6        $0.01        $7,995\n",
       "Maternity - Non-Delivery                 0.3        $0.00        $1,882\n",
       "Hospital Visit - Extended Care           0.4        $0.00        $1,362\n",
       "Consultations                            0.1        $0.00          $497\n",
       "Labor Room/Delivery                      0.1        $0.00          $469\n",
       "Dental                                   0.1        $0.00          $458\n",
       "Specialist - Opthamology                 0.1        $0.00          $321\n",
       "After hours                              0.0        $0.00            $0\n",
       "\n",
       "[94 rows x 3 columns]"
      ]
     },
     "execution_count": 73,
     "metadata": {},
     "output_type": "execute_result"
    }
   ],
   "source": [
    "subcat_final"
   ]
  },
  {
   "cell_type": "markdown",
   "metadata": {},
   "source": [
    "#### 5. For each pcp specialty, perform the following:\n",
    "\n",
    "- Calculate the unique number of patients seen\n",
    "- Calculate the number of encounters\n",
    "- Calculate the paid per patient\n",
    "- Calculate the paid per encounter\n",
    "- Calculate the total paid amount\n",
    "- Calculate the total paid PMPM amount\n",
    "\n",
    "PCP provider specialty codes: (21, 25, 35, 45, 62, 44, M6)\n",
    "\n",
    "Create your output in the form of a pandas dataframe."
   ]
  },
  {
   "cell_type": "code",
   "execution_count": 185,
   "metadata": {},
   "outputs": [],
   "source": [
    "def pcp_metrics(x):\n",
    "    '''\n",
    "    The function takes a pandas dataframe x, and calculates various metrics that get returned\n",
    "    as a pandas series. The metric calculations are stored in a dictionary with the column names\n",
    "    for keys and the calculations for the values.\n",
    "    '''\n",
    "    metrics = {\n",
    "        'patients': x['memberid'].nunique(),\n",
    "        'encounters': x['encounter'].count(),\n",
    "        'paid_per_patient': x['paid'].sum()/x['memberid'].nunique(),\n",
    "        'paid_per_encounter': x['paid'].sum()/x['encounter'].count(),\n",
    "        'paid_pmpm': x['paid'].sum()/mm,\n",
    "        'total_paid': x['paid'].sum()\n",
    "    }\n",
    "    \n",
    "    return pd.Series(metrics, index=['patients', 'encounters', \n",
    "                                     'paid_per_patient', 'paid_per_encounter', \n",
    "                                     'paid_pmpm', 'total_paid'])"
   ]
  },
  {
   "cell_type": "code",
   "execution_count": 281,
   "metadata": {},
   "outputs": [],
   "source": [
    "# filter the eligible claims for only the pcp providers\n",
    "pcp_claims = elig_claims.loc[elig_claims['provspec'].isin(['21', '25', '35', '45', '62', '44', 'M6'])]"
   ]
  },
  {
   "cell_type": "markdown",
   "metadata": {},
   "source": [
    "Now, considering that we have multiple columns that are used in our pcp_metrics function, we cannot simply use .agg() since it implicitly passes a Series to the aggregating function. Instead, we can use .apply() and pass the entire dataframe to the function."
   ]
  },
  {
   "cell_type": "code",
   "execution_count": 282,
   "metadata": {},
   "outputs": [],
   "source": [
    "# apply the pcp_metrics function to the dataframe\n",
    "pcp_claims = pcp_claims.groupby('provspec_desc').apply(pcp_metrics)"
   ]
  },
  {
   "cell_type": "code",
   "execution_count": 188,
   "metadata": {},
   "outputs": [],
   "source": [
    "# sort the dataframe by the total paid amount\n",
    "pcp_claims_final = pcp_claims.sort_values('total_paid', ascending=False)"
   ]
  },
  {
   "cell_type": "code",
   "execution_count": 189,
   "metadata": {},
   "outputs": [],
   "source": [
    "# format the columns in the dataframe\n",
    "pcp_claims_final['patients'] = pcp_claims_final['patients'].apply('{:,.0f}'.format)\n",
    "pcp_claims_final['encounters'] = pcp_claims_final['encounters'].apply('{:,.0f}'.format)\n",
    "pcp_claims_final['paid_per_patient'] = pcp_claims_final['paid_per_patient'].apply('${:,.0f}'.format)\n",
    "pcp_claims_final['paid_per_encounter'] = pcp_claims_final['paid_per_encounter'].apply('${:,.0f}'.format)\n",
    "pcp_claims_final['paid_pmpm'] = pcp_claims_final['paid_pmpm'].apply('${:,.2f}'.format)\n",
    "pcp_claims_final['total_paid'] = pcp_claims_final['total_paid'].apply('${:,.0f}'.format)"
   ]
  },
  {
   "cell_type": "markdown",
   "metadata": {},
   "source": [
    "#### __Correct Answer:__"
   ]
  },
  {
   "cell_type": "code",
   "execution_count": 191,
   "metadata": {},
   "outputs": [
    {
     "data": {
      "text/html": [
       "<div>\n",
       "<style scoped>\n",
       "    .dataframe tbody tr th:only-of-type {\n",
       "        vertical-align: middle;\n",
       "    }\n",
       "\n",
       "    .dataframe tbody tr th {\n",
       "        vertical-align: top;\n",
       "    }\n",
       "\n",
       "    .dataframe thead th {\n",
       "        text-align: right;\n",
       "    }\n",
       "</style>\n",
       "<table border=\"1\" class=\"dataframe\">\n",
       "  <thead>\n",
       "    <tr style=\"text-align: right;\">\n",
       "      <th></th>\n",
       "      <th>patients</th>\n",
       "      <th>encounters</th>\n",
       "      <th>paid_per_patient</th>\n",
       "      <th>paid_per_encounter</th>\n",
       "      <th>paid_pmpm</th>\n",
       "      <th>total_paid</th>\n",
       "    </tr>\n",
       "    <tr>\n",
       "      <th>provspec_desc</th>\n",
       "      <th></th>\n",
       "      <th></th>\n",
       "      <th></th>\n",
       "      <th></th>\n",
       "      <th></th>\n",
       "      <th></th>\n",
       "    </tr>\n",
       "  </thead>\n",
       "  <tbody>\n",
       "    <tr>\n",
       "      <th>Internal Medicine</th>\n",
       "      <td>38,518</td>\n",
       "      <td>578,040</td>\n",
       "      <td>$1,032</td>\n",
       "      <td>$69</td>\n",
       "      <td>$55.01</td>\n",
       "      <td>$39,754,110</td>\n",
       "    </tr>\n",
       "    <tr>\n",
       "      <th>Family Medicine</th>\n",
       "      <td>43,521</td>\n",
       "      <td>416,130</td>\n",
       "      <td>$373</td>\n",
       "      <td>$39</td>\n",
       "      <td>$22.45</td>\n",
       "      <td>$16,221,481</td>\n",
       "    </tr>\n",
       "    <tr>\n",
       "      <th>Nurse Practitioner</th>\n",
       "      <td>23,156</td>\n",
       "      <td>104,463</td>\n",
       "      <td>$197</td>\n",
       "      <td>$44</td>\n",
       "      <td>$6.32</td>\n",
       "      <td>$4,564,830</td>\n",
       "    </tr>\n",
       "    <tr>\n",
       "      <th>Other</th>\n",
       "      <td>19,935</td>\n",
       "      <td>77,732</td>\n",
       "      <td>$184</td>\n",
       "      <td>$47</td>\n",
       "      <td>$5.07</td>\n",
       "      <td>$3,665,343</td>\n",
       "    </tr>\n",
       "    <tr>\n",
       "      <th>Obstetrics and Gynecology</th>\n",
       "      <td>4,348</td>\n",
       "      <td>11,283</td>\n",
       "      <td>$174</td>\n",
       "      <td>$67</td>\n",
       "      <td>$1.05</td>\n",
       "      <td>$757,789</td>\n",
       "    </tr>\n",
       "    <tr>\n",
       "      <th>Geriatric Medicine</th>\n",
       "      <td>1,757</td>\n",
       "      <td>5,356</td>\n",
       "      <td>$204</td>\n",
       "      <td>$67</td>\n",
       "      <td>$0.50</td>\n",
       "      <td>$359,017</td>\n",
       "    </tr>\n",
       "    <tr>\n",
       "      <th>Pediatric Medicine</th>\n",
       "      <td>74</td>\n",
       "      <td>230</td>\n",
       "      <td>$207</td>\n",
       "      <td>$67</td>\n",
       "      <td>$0.02</td>\n",
       "      <td>$15,349</td>\n",
       "    </tr>\n",
       "  </tbody>\n",
       "</table>\n",
       "</div>"
      ],
      "text/plain": [
       "                          patients encounters paid_per_patient  \\\n",
       "provspec_desc                                                    \n",
       "Internal Medicine           38,518    578,040           $1,032   \n",
       "Family Medicine             43,521    416,130             $373   \n",
       "Nurse Practitioner          23,156    104,463             $197   \n",
       "Other                       19,935     77,732             $184   \n",
       "Obstetrics and Gynecology    4,348     11,283             $174   \n",
       "Geriatric Medicine           1,757      5,356             $204   \n",
       "Pediatric Medicine              74        230             $207   \n",
       "\n",
       "                          paid_per_encounter paid_pmpm   total_paid  \n",
       "provspec_desc                                                        \n",
       "Internal Medicine                        $69    $55.01  $39,754,110  \n",
       "Family Medicine                          $39    $22.45  $16,221,481  \n",
       "Nurse Practitioner                       $44     $6.32   $4,564,830  \n",
       "Other                                    $47     $5.07   $3,665,343  \n",
       "Obstetrics and Gynecology                $67     $1.05     $757,789  \n",
       "Geriatric Medicine                       $67     $0.50     $359,017  \n",
       "Pediatric Medicine                       $67     $0.02      $15,349  "
      ]
     },
     "execution_count": 191,
     "metadata": {},
     "output_type": "execute_result"
    }
   ],
   "source": [
    "pcp_claims_final"
   ]
  },
  {
   "cell_type": "markdown",
   "metadata": {},
   "source": [
    "#### 6. Pull the top 10 inpatient facilities by total admits and perform the following:\n",
    "- Calculate the number of admits\n",
    "- Calculate the number of days\n",
    "- Calculate the alos\n",
    "- Calculate the paid per day amount\n",
    "- Calculate the paid per admit amount\n",
    "- Calculate the total paid amount\n",
    "\n",
    "Create your output in the form of a pandas dataframe."
   ]
  },
  {
   "cell_type": "code",
   "execution_count": 193,
   "metadata": {},
   "outputs": [],
   "source": [
    "def paid_day(x):\n",
    "    ''' \n",
    "    The function takes a pandas dataframe x, and calculates the paid amount per day. If\n",
    "    the number of days is equal to 0, then it returns 0.\n",
    "    '''\n",
    "    if x['days'].sum() == 0:\n",
    "        return 0\n",
    "        \n",
    "    else: \n",
    "        return x['paid'].sum()/x['days'].sum()"
   ]
  },
  {
   "cell_type": "code",
   "execution_count": 194,
   "metadata": {},
   "outputs": [],
   "source": [
    "def fac_metrics(x):\n",
    "    '''\n",
    "    The function takes a pandas dataframe x, and calculates various metrics that get returned\n",
    "    as a pandas series. The metric calculations are stored in a dictionary with the column names\n",
    "    for keys and the calculations for the metrics.\n",
    "    '''\n",
    "    metrics = {\n",
    "        'admits': x['provname'].count(),\n",
    "        'days': x['days'].sum(),\n",
    "        'alos': x['days'].mean(),\n",
    "        'paid_day': paid_day(x),\n",
    "        'paid_admit': (x['paid'].sum()/x['provname'].count()),\n",
    "        'total_paid': x['paid'].sum()\n",
    "    }\n",
    "        \n",
    "    return pd.Series(metrics, index=['admits', 'days', 'alos', 'paid_day', 'paid_admit', 'total_paid'])"
   ]
  },
  {
   "cell_type": "markdown",
   "metadata": {},
   "source": [
    "In order to get only the inpatient facility claims, we are going to need to filter the data for only the hospital inpatient claims. This can be done by using the claim type Hospital Inpatient."
   ]
  },
  {
   "cell_type": "code",
   "execution_count": 91,
   "metadata": {},
   "outputs": [],
   "source": [
    "# filter the eligible claims for only the inpatient claims\n",
    "top_10_fac = elig_claims_final.loc[elig_claims_final['claim_type'] == \"Hospital Inpatient\"]"
   ]
  },
  {
   "cell_type": "code",
   "execution_count": 195,
   "metadata": {},
   "outputs": [],
   "source": [
    "# apply fac_metrics function to the dataframe\n",
    "top_10_fac2 = top_10_fac.groupby('provname').apply(fac_metrics)"
   ]
  },
  {
   "cell_type": "code",
   "execution_count": 197,
   "metadata": {
    "scrolled": true
   },
   "outputs": [],
   "source": [
    "# sort the data by admits\n",
    "top_10_fac3 = top_10_fac2.sort_values('admits', ascending=False)"
   ]
  },
  {
   "cell_type": "code",
   "execution_count": 199,
   "metadata": {},
   "outputs": [],
   "source": [
    "# reset the index to filter for top 10 facilities\n",
    "top_10_fac3 = top_10_fac3.reset_index()"
   ]
  },
  {
   "cell_type": "code",
   "execution_count": 201,
   "metadata": {},
   "outputs": [],
   "source": [
    "# only keep the top 10 recrods\n",
    "top_10_fac_final = top_10_fac3.loc[0:9,'provname':]"
   ]
  },
  {
   "cell_type": "code",
   "execution_count": 202,
   "metadata": {},
   "outputs": [],
   "source": [
    "# format the columns\n",
    "top_10_fac_final['admits'] = top_10_fac_final['admits'].apply('{:,.0f}'.format)\n",
    "top_10_fac_final['days'] = top_10_fac_final['days'].apply('{:,.0f}'.format)\n",
    "top_10_fac_final['alos'] = top_10_fac_final['alos'].apply('{:,.1f}'.format)\n",
    "top_10_fac_final['paid_day'] = top_10_fac_final['paid_day'].apply('${0:,.0f}'.format)\n",
    "top_10_fac_final['paid_admit'] = top_10_fac_final['paid_admit'].apply('${0:,.0f}'.format)\n",
    "top_10_fac_final['total_paid'] = top_10_fac_final['total_paid'].apply('${0:,.0f}'.format)"
   ]
  },
  {
   "cell_type": "code",
   "execution_count": 203,
   "metadata": {},
   "outputs": [],
   "source": [
    "# set the index to the facility name\n",
    "top_10_fac_final.set_index('provname', inplace=True)"
   ]
  },
  {
   "cell_type": "markdown",
   "metadata": {},
   "source": [
    "#### __Correct Answer:__"
   ]
  },
  {
   "cell_type": "code",
   "execution_count": 204,
   "metadata": {},
   "outputs": [
    {
     "data": {
      "text/html": [
       "<div>\n",
       "<style scoped>\n",
       "    .dataframe tbody tr th:only-of-type {\n",
       "        vertical-align: middle;\n",
       "    }\n",
       "\n",
       "    .dataframe tbody tr th {\n",
       "        vertical-align: top;\n",
       "    }\n",
       "\n",
       "    .dataframe thead th {\n",
       "        text-align: right;\n",
       "    }\n",
       "</style>\n",
       "<table border=\"1\" class=\"dataframe\">\n",
       "  <thead>\n",
       "    <tr style=\"text-align: right;\">\n",
       "      <th></th>\n",
       "      <th>admits</th>\n",
       "      <th>days</th>\n",
       "      <th>alos</th>\n",
       "      <th>paid_day</th>\n",
       "      <th>paid_admit</th>\n",
       "      <th>total_paid</th>\n",
       "    </tr>\n",
       "    <tr>\n",
       "      <th>provname</th>\n",
       "      <th></th>\n",
       "      <th></th>\n",
       "      <th></th>\n",
       "      <th></th>\n",
       "      <th></th>\n",
       "      <th></th>\n",
       "    </tr>\n",
       "  </thead>\n",
       "  <tbody>\n",
       "    <tr>\n",
       "      <th>CARILION ROANOKE MEMORIAL HOSPITAL</th>\n",
       "      <td>5,709</td>\n",
       "      <td>28,354</td>\n",
       "      <td>5.0</td>\n",
       "      <td>$2,399</td>\n",
       "      <td>$11,912</td>\n",
       "      <td>$68,007,741</td>\n",
       "    </tr>\n",
       "    <tr>\n",
       "      <th>LEWISGALE MEDICAL CENTER</th>\n",
       "      <td>1,830</td>\n",
       "      <td>9,816</td>\n",
       "      <td>5.4</td>\n",
       "      <td>$1,603</td>\n",
       "      <td>$8,597</td>\n",
       "      <td>$15,732,032</td>\n",
       "    </tr>\n",
       "    <tr>\n",
       "      <th>CARILION NEW RIVER VALLEY MEDICAL CENTER</th>\n",
       "      <td>1,215</td>\n",
       "      <td>4,589</td>\n",
       "      <td>3.8</td>\n",
       "      <td>$2,002</td>\n",
       "      <td>$7,561</td>\n",
       "      <td>$9,186,040</td>\n",
       "    </tr>\n",
       "    <tr>\n",
       "      <th>T/A AUGUSTA HEALTH</th>\n",
       "      <td>992</td>\n",
       "      <td>3,225</td>\n",
       "      <td>3.3</td>\n",
       "      <td>$2,936</td>\n",
       "      <td>$9,546</td>\n",
       "      <td>$9,469,646</td>\n",
       "    </tr>\n",
       "    <tr>\n",
       "      <th>ROCKINGHAM MEMORIAL HOSPITAL</th>\n",
       "      <td>604</td>\n",
       "      <td>2,388</td>\n",
       "      <td>4.0</td>\n",
       "      <td>$2,718</td>\n",
       "      <td>$10,746</td>\n",
       "      <td>$6,490,771</td>\n",
       "    </tr>\n",
       "    <tr>\n",
       "      <th>SOVAH HEALTH MARTINSVILLE</th>\n",
       "      <td>574</td>\n",
       "      <td>2,482</td>\n",
       "      <td>4.3</td>\n",
       "      <td>$1,576</td>\n",
       "      <td>$6,814</td>\n",
       "      <td>$3,911,090</td>\n",
       "    </tr>\n",
       "    <tr>\n",
       "      <th>LEWISGALE HOSPITAL MONTGOMERY</th>\n",
       "      <td>563</td>\n",
       "      <td>2,325</td>\n",
       "      <td>4.1</td>\n",
       "      <td>$2,084</td>\n",
       "      <td>$8,606</td>\n",
       "      <td>$4,845,434</td>\n",
       "    </tr>\n",
       "    <tr>\n",
       "      <th>TWIN COUNTY REGIONAL HOSPITAL</th>\n",
       "      <td>515</td>\n",
       "      <td>1,744</td>\n",
       "      <td>3.4</td>\n",
       "      <td>$1,947</td>\n",
       "      <td>$6,593</td>\n",
       "      <td>$3,395,456</td>\n",
       "    </tr>\n",
       "    <tr>\n",
       "      <th>UVA HEALTH SCIENCES CENTER</th>\n",
       "      <td>480</td>\n",
       "      <td>2,589</td>\n",
       "      <td>5.4</td>\n",
       "      <td>$3,723</td>\n",
       "      <td>$20,081</td>\n",
       "      <td>$9,639,057</td>\n",
       "    </tr>\n",
       "    <tr>\n",
       "      <th>CARILION FRANKLIN MEMORIAL HOSPITAL</th>\n",
       "      <td>385</td>\n",
       "      <td>1,211</td>\n",
       "      <td>3.1</td>\n",
       "      <td>$1,996</td>\n",
       "      <td>$6,277</td>\n",
       "      <td>$2,416,733</td>\n",
       "    </tr>\n",
       "  </tbody>\n",
       "</table>\n",
       "</div>"
      ],
      "text/plain": [
       "                                         admits    days alos paid_day  \\\n",
       "provname                                                                \n",
       "CARILION ROANOKE MEMORIAL HOSPITAL        5,709  28,354  5.0   $2,399   \n",
       "LEWISGALE MEDICAL CENTER                  1,830   9,816  5.4   $1,603   \n",
       "CARILION NEW RIVER VALLEY MEDICAL CENTER  1,215   4,589  3.8   $2,002   \n",
       "T/A AUGUSTA HEALTH                          992   3,225  3.3   $2,936   \n",
       "ROCKINGHAM MEMORIAL HOSPITAL                604   2,388  4.0   $2,718   \n",
       "SOVAH HEALTH MARTINSVILLE                   574   2,482  4.3   $1,576   \n",
       "LEWISGALE HOSPITAL MONTGOMERY               563   2,325  4.1   $2,084   \n",
       "TWIN COUNTY REGIONAL HOSPITAL               515   1,744  3.4   $1,947   \n",
       "UVA HEALTH SCIENCES CENTER                  480   2,589  5.4   $3,723   \n",
       "CARILION FRANKLIN MEMORIAL HOSPITAL         385   1,211  3.1   $1,996   \n",
       "\n",
       "                                         paid_admit   total_paid  \n",
       "provname                                                          \n",
       "CARILION ROANOKE MEMORIAL HOSPITAL          $11,912  $68,007,741  \n",
       "LEWISGALE MEDICAL CENTER                     $8,597  $15,732,032  \n",
       "CARILION NEW RIVER VALLEY MEDICAL CENTER     $7,561   $9,186,040  \n",
       "T/A AUGUSTA HEALTH                           $9,546   $9,469,646  \n",
       "ROCKINGHAM MEMORIAL HOSPITAL                $10,746   $6,490,771  \n",
       "SOVAH HEALTH MARTINSVILLE                    $6,814   $3,911,090  \n",
       "LEWISGALE HOSPITAL MONTGOMERY                $8,606   $4,845,434  \n",
       "TWIN COUNTY REGIONAL HOSPITAL                $6,593   $3,395,456  \n",
       "UVA HEALTH SCIENCES CENTER                  $20,081   $9,639,057  \n",
       "CARILION FRANKLIN MEMORIAL HOSPITAL          $6,277   $2,416,733  "
      ]
     },
     "execution_count": 204,
     "metadata": {},
     "output_type": "execute_result"
    }
   ],
   "source": [
    "top_10_fac_final"
   ]
  },
  {
   "cell_type": "markdown",
   "metadata": {},
   "source": [
    "#### 7. Repeat the analysis for question 6, but for the inpatient facilities not in the top 10 by total admits. Add the row to the end of the dataframe created in question 6."
   ]
  },
  {
   "cell_type": "code",
   "execution_count": 211,
   "metadata": {},
   "outputs": [],
   "source": [
    "# create a new dataframe comprised of all facilities a\n",
    "all_other_fac = top_10_fac3"
   ]
  },
  {
   "cell_type": "code",
   "execution_count": 213,
   "metadata": {},
   "outputs": [],
   "source": [
    "# filter the new dataframe for only those facilities outside the top 10 by admits\n",
    "all_other_fac = all_other_fac.loc[all_other_fac.index >= 10]"
   ]
  },
  {
   "cell_type": "code",
   "execution_count": 214,
   "metadata": {},
   "outputs": [],
   "source": [
    "# set the index to the facility name\n",
    "all_other_fac.set_index('provname', inplace=True)"
   ]
  },
  {
   "cell_type": "code",
   "execution_count": 216,
   "metadata": {},
   "outputs": [],
   "source": [
    "# need to re-calculate the alos, paid/day, and paid/admit for the combined facilities\n",
    "all_other_fac = all_other_fac.drop(columns=['alos', 'paid_day', 'paid_admit' ])"
   ]
  },
  {
   "cell_type": "code",
   "execution_count": 219,
   "metadata": {},
   "outputs": [],
   "source": [
    "# create a new row at the bottom of the dataframe that sums the columns\n",
    "all_other_fac.loc['ALL OTHER'] = all_other_fac.sum()"
   ]
  },
  {
   "cell_type": "code",
   "execution_count": 222,
   "metadata": {},
   "outputs": [],
   "source": [
    "# only get the ALL OTHER row and set it as the dataframe\n",
    "all_other_fac = all_other_fac.loc['ALL OTHER']"
   ]
  },
  {
   "cell_type": "code",
   "execution_count": 224,
   "metadata": {
    "scrolled": true
   },
   "outputs": [],
   "source": [
    "# convert the series back to a dataframe\n",
    "all_other_fac = pd.DataFrame(all_other_fac)"
   ]
  },
  {
   "cell_type": "code",
   "execution_count": 226,
   "metadata": {},
   "outputs": [],
   "source": [
    "# transpose the datafame\n",
    "all_other_fac = all_other_fac.T"
   ]
  },
  {
   "cell_type": "code",
   "execution_count": 228,
   "metadata": {
    "scrolled": true
   },
   "outputs": [],
   "source": [
    "# calculate the alos\n",
    "all_other_fac['alos'] = all_other_fac.apply(lambda x: x['days']/x['admits'], axis=1)"
   ]
  },
  {
   "cell_type": "code",
   "execution_count": 229,
   "metadata": {},
   "outputs": [],
   "source": [
    "# calculate the paid per day\n",
    "all_other_fac['paid_day'] = all_other_fac.apply(lambda x: x['total_paid']/x['days'], axis=1)"
   ]
  },
  {
   "cell_type": "code",
   "execution_count": 230,
   "metadata": {},
   "outputs": [],
   "source": [
    "# calculate the paid per admit\n",
    "all_other_fac['paid_admit'] = all_other_fac.apply(lambda x: x['total_paid']/x['admits'], axis=1)"
   ]
  },
  {
   "cell_type": "code",
   "execution_count": 232,
   "metadata": {},
   "outputs": [],
   "source": [
    "# reorder to the columns to match orginal dataframe\n",
    "all_other_fac = all_other_fac[['admits', 'days', 'alos', 'paid_day', 'paid_admit', 'total_paid']]"
   ]
  },
  {
   "cell_type": "code",
   "execution_count": 233,
   "metadata": {},
   "outputs": [],
   "source": [
    "# format the columns\n",
    "all_other_fac['admits'] = all_other_fac['admits'].apply('{:,.0f}'.format)\n",
    "all_other_fac['days'] = all_other_fac['days'].apply('{:,.0f}'.format)\n",
    "all_other_fac['alos'] = all_other_fac['alos'].apply('{:,.1f}'.format)\n",
    "all_other_fac['paid_day'] = all_other_fac['paid_day'].apply('${0:,.0f}'.format)\n",
    "all_other_fac['paid_admit'] = all_other_fac['paid_admit'].apply('${0:,.0f}'.format)\n",
    "all_other_fac['total_paid'] = all_other_fac['total_paid'].apply('${0:,.0f}'.format)"
   ]
  },
  {
   "cell_type": "code",
   "execution_count": 234,
   "metadata": {
    "scrolled": true
   },
   "outputs": [],
   "source": [
    "# add the row to the end of the top 10 data frame\n",
    "all_other_fac_final = pd.concat([top_10_fac_final, all_other_fac])"
   ]
  },
  {
   "cell_type": "markdown",
   "metadata": {},
   "source": [
    "#### __Correct Answer:__"
   ]
  },
  {
   "cell_type": "code",
   "execution_count": 235,
   "metadata": {},
   "outputs": [
    {
     "data": {
      "text/html": [
       "<div>\n",
       "<style scoped>\n",
       "    .dataframe tbody tr th:only-of-type {\n",
       "        vertical-align: middle;\n",
       "    }\n",
       "\n",
       "    .dataframe tbody tr th {\n",
       "        vertical-align: top;\n",
       "    }\n",
       "\n",
       "    .dataframe thead th {\n",
       "        text-align: right;\n",
       "    }\n",
       "</style>\n",
       "<table border=\"1\" class=\"dataframe\">\n",
       "  <thead>\n",
       "    <tr style=\"text-align: right;\">\n",
       "      <th></th>\n",
       "      <th>admits</th>\n",
       "      <th>days</th>\n",
       "      <th>alos</th>\n",
       "      <th>paid_day</th>\n",
       "      <th>paid_admit</th>\n",
       "      <th>total_paid</th>\n",
       "    </tr>\n",
       "  </thead>\n",
       "  <tbody>\n",
       "    <tr>\n",
       "      <th>CARILION ROANOKE MEMORIAL HOSPITAL</th>\n",
       "      <td>5,709</td>\n",
       "      <td>28,354</td>\n",
       "      <td>5.0</td>\n",
       "      <td>$2,399</td>\n",
       "      <td>$11,912</td>\n",
       "      <td>$68,007,741</td>\n",
       "    </tr>\n",
       "    <tr>\n",
       "      <th>LEWISGALE MEDICAL CENTER</th>\n",
       "      <td>1,830</td>\n",
       "      <td>9,816</td>\n",
       "      <td>5.4</td>\n",
       "      <td>$1,603</td>\n",
       "      <td>$8,597</td>\n",
       "      <td>$15,732,032</td>\n",
       "    </tr>\n",
       "    <tr>\n",
       "      <th>CARILION NEW RIVER VALLEY MEDICAL CENTER</th>\n",
       "      <td>1,215</td>\n",
       "      <td>4,589</td>\n",
       "      <td>3.8</td>\n",
       "      <td>$2,002</td>\n",
       "      <td>$7,561</td>\n",
       "      <td>$9,186,040</td>\n",
       "    </tr>\n",
       "    <tr>\n",
       "      <th>T/A AUGUSTA HEALTH</th>\n",
       "      <td>992</td>\n",
       "      <td>3,225</td>\n",
       "      <td>3.3</td>\n",
       "      <td>$2,936</td>\n",
       "      <td>$9,546</td>\n",
       "      <td>$9,469,646</td>\n",
       "    </tr>\n",
       "    <tr>\n",
       "      <th>ROCKINGHAM MEMORIAL HOSPITAL</th>\n",
       "      <td>604</td>\n",
       "      <td>2,388</td>\n",
       "      <td>4.0</td>\n",
       "      <td>$2,718</td>\n",
       "      <td>$10,746</td>\n",
       "      <td>$6,490,771</td>\n",
       "    </tr>\n",
       "    <tr>\n",
       "      <th>SOVAH HEALTH MARTINSVILLE</th>\n",
       "      <td>574</td>\n",
       "      <td>2,482</td>\n",
       "      <td>4.3</td>\n",
       "      <td>$1,576</td>\n",
       "      <td>$6,814</td>\n",
       "      <td>$3,911,090</td>\n",
       "    </tr>\n",
       "    <tr>\n",
       "      <th>LEWISGALE HOSPITAL MONTGOMERY</th>\n",
       "      <td>563</td>\n",
       "      <td>2,325</td>\n",
       "      <td>4.1</td>\n",
       "      <td>$2,084</td>\n",
       "      <td>$8,606</td>\n",
       "      <td>$4,845,434</td>\n",
       "    </tr>\n",
       "    <tr>\n",
       "      <th>TWIN COUNTY REGIONAL HOSPITAL</th>\n",
       "      <td>515</td>\n",
       "      <td>1,744</td>\n",
       "      <td>3.4</td>\n",
       "      <td>$1,947</td>\n",
       "      <td>$6,593</td>\n",
       "      <td>$3,395,456</td>\n",
       "    </tr>\n",
       "    <tr>\n",
       "      <th>UVA HEALTH SCIENCES CENTER</th>\n",
       "      <td>480</td>\n",
       "      <td>2,589</td>\n",
       "      <td>5.4</td>\n",
       "      <td>$3,723</td>\n",
       "      <td>$20,081</td>\n",
       "      <td>$9,639,057</td>\n",
       "    </tr>\n",
       "    <tr>\n",
       "      <th>CARILION FRANKLIN MEMORIAL HOSPITAL</th>\n",
       "      <td>385</td>\n",
       "      <td>1,211</td>\n",
       "      <td>3.1</td>\n",
       "      <td>$1,996</td>\n",
       "      <td>$6,277</td>\n",
       "      <td>$2,416,733</td>\n",
       "    </tr>\n",
       "    <tr>\n",
       "      <th>ALL OTHER</th>\n",
       "      <td>7,356</td>\n",
       "      <td>129,969</td>\n",
       "      <td>17.7</td>\n",
       "      <td>$609</td>\n",
       "      <td>$10,763</td>\n",
       "      <td>$79,170,016</td>\n",
       "    </tr>\n",
       "  </tbody>\n",
       "</table>\n",
       "</div>"
      ],
      "text/plain": [
       "                                         admits     days  alos paid_day  \\\n",
       "CARILION ROANOKE MEMORIAL HOSPITAL        5,709   28,354   5.0   $2,399   \n",
       "LEWISGALE MEDICAL CENTER                  1,830    9,816   5.4   $1,603   \n",
       "CARILION NEW RIVER VALLEY MEDICAL CENTER  1,215    4,589   3.8   $2,002   \n",
       "T/A AUGUSTA HEALTH                          992    3,225   3.3   $2,936   \n",
       "ROCKINGHAM MEMORIAL HOSPITAL                604    2,388   4.0   $2,718   \n",
       "SOVAH HEALTH MARTINSVILLE                   574    2,482   4.3   $1,576   \n",
       "LEWISGALE HOSPITAL MONTGOMERY               563    2,325   4.1   $2,084   \n",
       "TWIN COUNTY REGIONAL HOSPITAL               515    1,744   3.4   $1,947   \n",
       "UVA HEALTH SCIENCES CENTER                  480    2,589   5.4   $3,723   \n",
       "CARILION FRANKLIN MEMORIAL HOSPITAL         385    1,211   3.1   $1,996   \n",
       "ALL OTHER                                 7,356  129,969  17.7     $609   \n",
       "\n",
       "                                         paid_admit   total_paid  \n",
       "CARILION ROANOKE MEMORIAL HOSPITAL          $11,912  $68,007,741  \n",
       "LEWISGALE MEDICAL CENTER                     $8,597  $15,732,032  \n",
       "CARILION NEW RIVER VALLEY MEDICAL CENTER     $7,561   $9,186,040  \n",
       "T/A AUGUSTA HEALTH                           $9,546   $9,469,646  \n",
       "ROCKINGHAM MEMORIAL HOSPITAL                $10,746   $6,490,771  \n",
       "SOVAH HEALTH MARTINSVILLE                    $6,814   $3,911,090  \n",
       "LEWISGALE HOSPITAL MONTGOMERY                $8,606   $4,845,434  \n",
       "TWIN COUNTY REGIONAL HOSPITAL                $6,593   $3,395,456  \n",
       "UVA HEALTH SCIENCES CENTER                  $20,081   $9,639,057  \n",
       "CARILION FRANKLIN MEMORIAL HOSPITAL          $6,277   $2,416,733  \n",
       "ALL OTHER                                   $10,763  $79,170,016  "
      ]
     },
     "execution_count": 235,
     "metadata": {},
     "output_type": "execute_result"
    }
   ],
   "source": [
    "all_other_fac_final"
   ]
  },
  {
   "cell_type": "markdown",
   "metadata": {},
   "source": [
    "#### 8.  Repeat the analysis for question 6, but for the all the inpatient facilities (create a total row for all the inpatient facilities). Add the row to the end of the data frame created in question 7."
   ]
  },
  {
   "cell_type": "code",
   "execution_count": 236,
   "metadata": {},
   "outputs": [],
   "source": [
    "# create a new dataframe comprised of all facilities\n",
    "total_fac = top_10_fac3"
   ]
  },
  {
   "cell_type": "code",
   "execution_count": 237,
   "metadata": {},
   "outputs": [],
   "source": [
    "# set the index to the facility name\n",
    "total_fac.set_index('provname', inplace=True)"
   ]
  },
  {
   "cell_type": "code",
   "execution_count": 238,
   "metadata": {},
   "outputs": [],
   "source": [
    "# need to re-calculate the alos, paid/day, and paid/admit for the combined facilities\n",
    "total_fac = total_fac.drop(columns=['alos', 'paid_day', 'paid_admit', ])"
   ]
  },
  {
   "cell_type": "code",
   "execution_count": 239,
   "metadata": {},
   "outputs": [],
   "source": [
    "# create a new row at the bottom of the dataframe that sums the \n",
    "total_fac.loc['TOTAL'] = total_fac.sum()"
   ]
  },
  {
   "cell_type": "code",
   "execution_count": 240,
   "metadata": {},
   "outputs": [],
   "source": [
    "# only get the TOTAL row \n",
    "total_fac = total_fac.loc['TOTAL']"
   ]
  },
  {
   "cell_type": "code",
   "execution_count": 241,
   "metadata": {},
   "outputs": [],
   "source": [
    "# convert the series back to a dataframe\n",
    "total_fac = pd.DataFrame(total_fac)"
   ]
  },
  {
   "cell_type": "code",
   "execution_count": 242,
   "metadata": {},
   "outputs": [],
   "source": [
    "# transpose the dataframe\n",
    "total_fac = total_fac.T"
   ]
  },
  {
   "cell_type": "code",
   "execution_count": 243,
   "metadata": {},
   "outputs": [],
   "source": [
    "# calculate the alos\n",
    "total_fac['alos'] = total_fac.apply(lambda x: x['days']/x['admits'], axis=1)"
   ]
  },
  {
   "cell_type": "code",
   "execution_count": 244,
   "metadata": {},
   "outputs": [],
   "source": [
    "# calculate the paid per day\n",
    "total_fac['paid_day'] = total_fac.apply(lambda x: x['total_paid']/x['days'], axis=1)"
   ]
  },
  {
   "cell_type": "code",
   "execution_count": 245,
   "metadata": {},
   "outputs": [],
   "source": [
    "# calculate the paid per admit\n",
    "total_fac['paid_admit'] = total_fac.apply(lambda x: x['total_paid']/x['admits'], axis=1)"
   ]
  },
  {
   "cell_type": "code",
   "execution_count": 246,
   "metadata": {},
   "outputs": [],
   "source": [
    "# reorder to the columns to match orginal dataframe\n",
    "total_fac = total_fac[['admits', 'days', 'alos', 'paid_day', 'paid_admit', 'total_paid']]"
   ]
  },
  {
   "cell_type": "code",
   "execution_count": 247,
   "metadata": {},
   "outputs": [],
   "source": [
    "# format the columns\n",
    "total_fac['admits'] = total_fac['admits'].apply('{:,.0f}'.format)\n",
    "total_fac['days'] = total_fac['days'].apply('{:,.0f}'.format)\n",
    "total_fac['alos'] = total_fac['alos'].apply('{:,.1f}'.format)\n",
    "total_fac['paid_day'] = total_fac['paid_day'].apply('${0:,.0f}'.format)\n",
    "total_fac['paid_admit'] = total_fac['paid_admit'].apply('${0:,.0f}'.format)\n",
    "total_fac['total_paid'] = total_fac['total_paid'].apply('${0:,.0f}'.format)"
   ]
  },
  {
   "cell_type": "code",
   "execution_count": 248,
   "metadata": {},
   "outputs": [],
   "source": [
    "# add the row to the end of the top 10 data frame\n",
    "facility_report = pd.concat([all_other_fac_final, total_fac])"
   ]
  },
  {
   "cell_type": "markdown",
   "metadata": {},
   "source": [
    "#### __Correct Answer:__"
   ]
  },
  {
   "cell_type": "code",
   "execution_count": 249,
   "metadata": {},
   "outputs": [
    {
     "data": {
      "text/html": [
       "<div>\n",
       "<style scoped>\n",
       "    .dataframe tbody tr th:only-of-type {\n",
       "        vertical-align: middle;\n",
       "    }\n",
       "\n",
       "    .dataframe tbody tr th {\n",
       "        vertical-align: top;\n",
       "    }\n",
       "\n",
       "    .dataframe thead th {\n",
       "        text-align: right;\n",
       "    }\n",
       "</style>\n",
       "<table border=\"1\" class=\"dataframe\">\n",
       "  <thead>\n",
       "    <tr style=\"text-align: right;\">\n",
       "      <th></th>\n",
       "      <th>admits</th>\n",
       "      <th>days</th>\n",
       "      <th>alos</th>\n",
       "      <th>paid_day</th>\n",
       "      <th>paid_admit</th>\n",
       "      <th>total_paid</th>\n",
       "    </tr>\n",
       "  </thead>\n",
       "  <tbody>\n",
       "    <tr>\n",
       "      <th>CARILION ROANOKE MEMORIAL HOSPITAL</th>\n",
       "      <td>5,709</td>\n",
       "      <td>28,354</td>\n",
       "      <td>5.0</td>\n",
       "      <td>$2,399</td>\n",
       "      <td>$11,912</td>\n",
       "      <td>$68,007,741</td>\n",
       "    </tr>\n",
       "    <tr>\n",
       "      <th>LEWISGALE MEDICAL CENTER</th>\n",
       "      <td>1,830</td>\n",
       "      <td>9,816</td>\n",
       "      <td>5.4</td>\n",
       "      <td>$1,603</td>\n",
       "      <td>$8,597</td>\n",
       "      <td>$15,732,032</td>\n",
       "    </tr>\n",
       "    <tr>\n",
       "      <th>CARILION NEW RIVER VALLEY MEDICAL CENTER</th>\n",
       "      <td>1,215</td>\n",
       "      <td>4,589</td>\n",
       "      <td>3.8</td>\n",
       "      <td>$2,002</td>\n",
       "      <td>$7,561</td>\n",
       "      <td>$9,186,040</td>\n",
       "    </tr>\n",
       "    <tr>\n",
       "      <th>T/A AUGUSTA HEALTH</th>\n",
       "      <td>992</td>\n",
       "      <td>3,225</td>\n",
       "      <td>3.3</td>\n",
       "      <td>$2,936</td>\n",
       "      <td>$9,546</td>\n",
       "      <td>$9,469,646</td>\n",
       "    </tr>\n",
       "    <tr>\n",
       "      <th>ROCKINGHAM MEMORIAL HOSPITAL</th>\n",
       "      <td>604</td>\n",
       "      <td>2,388</td>\n",
       "      <td>4.0</td>\n",
       "      <td>$2,718</td>\n",
       "      <td>$10,746</td>\n",
       "      <td>$6,490,771</td>\n",
       "    </tr>\n",
       "    <tr>\n",
       "      <th>SOVAH HEALTH MARTINSVILLE</th>\n",
       "      <td>574</td>\n",
       "      <td>2,482</td>\n",
       "      <td>4.3</td>\n",
       "      <td>$1,576</td>\n",
       "      <td>$6,814</td>\n",
       "      <td>$3,911,090</td>\n",
       "    </tr>\n",
       "    <tr>\n",
       "      <th>LEWISGALE HOSPITAL MONTGOMERY</th>\n",
       "      <td>563</td>\n",
       "      <td>2,325</td>\n",
       "      <td>4.1</td>\n",
       "      <td>$2,084</td>\n",
       "      <td>$8,606</td>\n",
       "      <td>$4,845,434</td>\n",
       "    </tr>\n",
       "    <tr>\n",
       "      <th>TWIN COUNTY REGIONAL HOSPITAL</th>\n",
       "      <td>515</td>\n",
       "      <td>1,744</td>\n",
       "      <td>3.4</td>\n",
       "      <td>$1,947</td>\n",
       "      <td>$6,593</td>\n",
       "      <td>$3,395,456</td>\n",
       "    </tr>\n",
       "    <tr>\n",
       "      <th>UVA HEALTH SCIENCES CENTER</th>\n",
       "      <td>480</td>\n",
       "      <td>2,589</td>\n",
       "      <td>5.4</td>\n",
       "      <td>$3,723</td>\n",
       "      <td>$20,081</td>\n",
       "      <td>$9,639,057</td>\n",
       "    </tr>\n",
       "    <tr>\n",
       "      <th>CARILION FRANKLIN MEMORIAL HOSPITAL</th>\n",
       "      <td>385</td>\n",
       "      <td>1,211</td>\n",
       "      <td>3.1</td>\n",
       "      <td>$1,996</td>\n",
       "      <td>$6,277</td>\n",
       "      <td>$2,416,733</td>\n",
       "    </tr>\n",
       "    <tr>\n",
       "      <th>ALL OTHER</th>\n",
       "      <td>7,356</td>\n",
       "      <td>129,969</td>\n",
       "      <td>17.7</td>\n",
       "      <td>$609</td>\n",
       "      <td>$10,763</td>\n",
       "      <td>$79,170,016</td>\n",
       "    </tr>\n",
       "    <tr>\n",
       "      <th>TOTAL</th>\n",
       "      <td>20,223</td>\n",
       "      <td>188,692</td>\n",
       "      <td>9.3</td>\n",
       "      <td>$1,125</td>\n",
       "      <td>$10,496</td>\n",
       "      <td>$212,264,014</td>\n",
       "    </tr>\n",
       "  </tbody>\n",
       "</table>\n",
       "</div>"
      ],
      "text/plain": [
       "                                          admits     days  alos paid_day  \\\n",
       "CARILION ROANOKE MEMORIAL HOSPITAL         5,709   28,354   5.0   $2,399   \n",
       "LEWISGALE MEDICAL CENTER                   1,830    9,816   5.4   $1,603   \n",
       "CARILION NEW RIVER VALLEY MEDICAL CENTER   1,215    4,589   3.8   $2,002   \n",
       "T/A AUGUSTA HEALTH                           992    3,225   3.3   $2,936   \n",
       "ROCKINGHAM MEMORIAL HOSPITAL                 604    2,388   4.0   $2,718   \n",
       "SOVAH HEALTH MARTINSVILLE                    574    2,482   4.3   $1,576   \n",
       "LEWISGALE HOSPITAL MONTGOMERY                563    2,325   4.1   $2,084   \n",
       "TWIN COUNTY REGIONAL HOSPITAL                515    1,744   3.4   $1,947   \n",
       "UVA HEALTH SCIENCES CENTER                   480    2,589   5.4   $3,723   \n",
       "CARILION FRANKLIN MEMORIAL HOSPITAL          385    1,211   3.1   $1,996   \n",
       "ALL OTHER                                  7,356  129,969  17.7     $609   \n",
       "TOTAL                                     20,223  188,692   9.3   $1,125   \n",
       "\n",
       "                                         paid_admit    total_paid  \n",
       "CARILION ROANOKE MEMORIAL HOSPITAL          $11,912   $68,007,741  \n",
       "LEWISGALE MEDICAL CENTER                     $8,597   $15,732,032  \n",
       "CARILION NEW RIVER VALLEY MEDICAL CENTER     $7,561    $9,186,040  \n",
       "T/A AUGUSTA HEALTH                           $9,546    $9,469,646  \n",
       "ROCKINGHAM MEMORIAL HOSPITAL                $10,746    $6,490,771  \n",
       "SOVAH HEALTH MARTINSVILLE                    $6,814    $3,911,090  \n",
       "LEWISGALE HOSPITAL MONTGOMERY                $8,606    $4,845,434  \n",
       "TWIN COUNTY REGIONAL HOSPITAL                $6,593    $3,395,456  \n",
       "UVA HEALTH SCIENCES CENTER                  $20,081    $9,639,057  \n",
       "CARILION FRANKLIN MEMORIAL HOSPITAL          $6,277    $2,416,733  \n",
       "ALL OTHER                                   $10,763   $79,170,016  \n",
       "TOTAL                                       $10,496  $212,264,014  "
      ]
     },
     "execution_count": 249,
     "metadata": {},
     "output_type": "execute_result"
    }
   ],
   "source": [
    "facility_report"
   ]
  },
  {
   "cell_type": "markdown",
   "metadata": {},
   "source": [
    "#### 9. What is the total number of prescriptions for brand drugs where a generic version was available?\n"
   ]
  },
  {
   "cell_type": "markdown",
   "metadata": {},
   "source": [
    "Similar to how we got the eligible claims, we have to do the same thing to get the eligible pharmacy claims."
   ]
  },
  {
   "cell_type": "code",
   "execution_count": 250,
   "metadata": {},
   "outputs": [],
   "source": [
    "# perform a left join from the claimsrx to the elig dataset on memberid\n",
    "elig_claimsrx = claimsrx.merge(elig, how='left', \n",
    "                               left_on=['memberid','incmonthid'], \n",
    "                               right_on=['memberid', 'monthid'])"
   ]
  },
  {
   "cell_type": "code",
   "execution_count": 251,
   "metadata": {},
   "outputs": [],
   "source": [
    "# filter the eligible claimsrx for only those cliams where the member weas eligible\n",
    "elig_claimsrx = elig_claimsrx.loc[elig_claimsrx['eligmed'] == 1.0]"
   ]
  },
  {
   "cell_type": "code",
   "execution_count": 252,
   "metadata": {},
   "outputs": [],
   "source": [
    "# filter the eligible claimsrx for only the brand presripctions\n",
    "brand_scripts = elig_claimsrx.loc[elig_claimsrx['drug_type'] == \"B\"]"
   ]
  },
  {
   "cell_type": "code",
   "execution_count": 253,
   "metadata": {},
   "outputs": [],
   "source": [
    "# filter the claimsrx for only brand prescriptions where there was a generic version\n",
    "brand_scripts = brand_scripts.loc[brand_scripts['generic_sub'].notnull()]"
   ]
  },
  {
   "cell_type": "code",
   "execution_count": 254,
   "metadata": {},
   "outputs": [],
   "source": [
    "# sum up the number of brand prescriptions\n",
    "brand_scripts_final = brand_scripts['script'].sum()"
   ]
  },
  {
   "cell_type": "markdown",
   "metadata": {},
   "source": [
    "#### __Correct Answer:__"
   ]
  },
  {
   "cell_type": "code",
   "execution_count": 255,
   "metadata": {},
   "outputs": [
    {
     "data": {
      "text/plain": [
       "141015"
      ]
     },
     "execution_count": 255,
     "metadata": {},
     "output_type": "execute_result"
    }
   ],
   "source": [
    "brand_scripts_final"
   ]
  },
  {
   "cell_type": "markdown",
   "metadata": {},
   "source": [
    "#### 10. Which drug had the highest paid per script amount?"
   ]
  },
  {
   "cell_type": "code",
   "execution_count": 256,
   "metadata": {},
   "outputs": [],
   "source": [
    "def paid_script(x):\n",
    "    ''' \n",
    "    The function takes a pandas dataframe x, and calculates the paid amount per script. If\n",
    "    the sum of scripts is equal to 0, then it returns 0.\n",
    "    '''\n",
    "    if x['script'].sum() == 0:\n",
    "        return 0\n",
    "        \n",
    "    else: \n",
    "        return x['paid'].sum()/x['script'].sum()"
   ]
  },
  {
   "cell_type": "code",
   "execution_count": 257,
   "metadata": {},
   "outputs": [],
   "source": [
    "# apply the paid_script function\n",
    "scripts = elig_claimsrx.groupby('drugname').apply(paid_script).reset_index(name='paid_script')"
   ]
  },
  {
   "cell_type": "code",
   "execution_count": 258,
   "metadata": {},
   "outputs": [],
   "source": [
    "# sort the result by the paid/ per cript amount\n",
    "scripts_final = scripts.sort_values('paid_script', ascending=False)"
   ]
  },
  {
   "cell_type": "code",
   "execution_count": 259,
   "metadata": {},
   "outputs": [],
   "source": [
    "# format the dataframe\n",
    "scripts_final['paid_script'] = scripts_final['paid_script'].apply('${:,.2f}'.format)"
   ]
  },
  {
   "cell_type": "code",
   "execution_count": 260,
   "metadata": {},
   "outputs": [],
   "source": [
    "# get the top row\n",
    "scripts_final = scripts_final.head(1)"
   ]
  },
  {
   "cell_type": "markdown",
   "metadata": {},
   "source": [
    "#### __Correct Answer:__"
   ]
  },
  {
   "cell_type": "code",
   "execution_count": 261,
   "metadata": {},
   "outputs": [
    {
     "data": {
      "text/html": [
       "<div>\n",
       "<style scoped>\n",
       "    .dataframe tbody tr th:only-of-type {\n",
       "        vertical-align: middle;\n",
       "    }\n",
       "\n",
       "    .dataframe tbody tr th {\n",
       "        vertical-align: top;\n",
       "    }\n",
       "\n",
       "    .dataframe thead th {\n",
       "        text-align: right;\n",
       "    }\n",
       "</style>\n",
       "<table border=\"1\" class=\"dataframe\">\n",
       "  <thead>\n",
       "    <tr style=\"text-align: right;\">\n",
       "      <th></th>\n",
       "      <th>drugname</th>\n",
       "      <th>paid_script</th>\n",
       "    </tr>\n",
       "  </thead>\n",
       "  <tbody>\n",
       "    <tr>\n",
       "      <th>754</th>\n",
       "      <td>ICLUSIG</td>\n",
       "      <td>$4,377.10</td>\n",
       "    </tr>\n",
       "  </tbody>\n",
       "</table>\n",
       "</div>"
      ],
      "text/plain": [
       "    drugname paid_script\n",
       "754  ICLUSIG   $4,377.10"
      ]
     },
     "execution_count": 261,
     "metadata": {},
     "output_type": "execute_result"
    }
   ],
   "source": [
    "scripts_final"
   ]
  }
 ],
 "metadata": {
  "celltoolbar": "Raw Cell Format",
  "kernelspec": {
   "display_name": "Python 3",
   "language": "python",
   "name": "python3"
  },
  "language_info": {
   "codemirror_mode": {
    "name": "ipython",
    "version": 3
   },
   "file_extension": ".py",
   "mimetype": "text/x-python",
   "name": "python",
   "nbconvert_exporter": "python",
   "pygments_lexer": "ipython3",
   "version": "3.6.4"
  }
 },
 "nbformat": 4,
 "nbformat_minor": 2
}
